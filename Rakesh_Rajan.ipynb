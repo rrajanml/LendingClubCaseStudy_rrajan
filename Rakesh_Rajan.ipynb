{
 "cells": [
  {
   "cell_type": "code",
   "execution_count": 1,
   "id": "73d66748",
   "metadata": {},
   "outputs": [],
   "source": [
    "#Importing Libraries\n",
    "import numpy as np\n",
    "import pandas as pd\n",
    "import matplotlib.pyplot as plt\n",
    "import seaborn as sns"
   ]
  },
  {
   "cell_type": "code",
   "execution_count": 4,
   "id": "7e370715",
   "metadata": {},
   "outputs": [
    {
     "name": "stderr",
     "output_type": "stream",
     "text": [
      "C:\\Users\\rakes\\anaconda3\\lib\\site-packages\\IPython\\core\\interactiveshell.py:3444: DtypeWarning: Columns (47) have mixed types.Specify dtype option on import or set low_memory=False.\n",
      "  exec(code_obj, self.user_global_ns, self.user_ns)\n"
     ]
    }
   ],
   "source": [
    "df_loan = pd.read_csv(\"C:\\\\Users\\\\rakes\\\\OneDrive\\\\Documents\\\\LendingCaseStudyData\\\\loan.csv\")\n",
    "df_colums = pd.read_excel(\"C:\\\\Users\\\\rakes\\\\OneDrive\\\\Documents\\\\LendingCaseStudyData\\\\Data_Dictionary.xlsx\")"
   ]
  },
  {
   "cell_type": "code",
   "execution_count": 5,
   "id": "2774bb53",
   "metadata": {},
   "outputs": [
    {
     "data": {
      "text/html": [
       "<div>\n",
       "<style scoped>\n",
       "    .dataframe tbody tr th:only-of-type {\n",
       "        vertical-align: middle;\n",
       "    }\n",
       "\n",
       "    .dataframe tbody tr th {\n",
       "        vertical-align: top;\n",
       "    }\n",
       "\n",
       "    .dataframe thead th {\n",
       "        text-align: right;\n",
       "    }\n",
       "</style>\n",
       "<table border=\"1\" class=\"dataframe\">\n",
       "  <thead>\n",
       "    <tr style=\"text-align: right;\">\n",
       "      <th></th>\n",
       "      <th>id</th>\n",
       "      <th>member_id</th>\n",
       "      <th>loan_amnt</th>\n",
       "      <th>funded_amnt</th>\n",
       "      <th>funded_amnt_inv</th>\n",
       "      <th>term</th>\n",
       "      <th>int_rate</th>\n",
       "      <th>installment</th>\n",
       "      <th>grade</th>\n",
       "      <th>sub_grade</th>\n",
       "      <th>...</th>\n",
       "      <th>num_tl_90g_dpd_24m</th>\n",
       "      <th>num_tl_op_past_12m</th>\n",
       "      <th>pct_tl_nvr_dlq</th>\n",
       "      <th>percent_bc_gt_75</th>\n",
       "      <th>pub_rec_bankruptcies</th>\n",
       "      <th>tax_liens</th>\n",
       "      <th>tot_hi_cred_lim</th>\n",
       "      <th>total_bal_ex_mort</th>\n",
       "      <th>total_bc_limit</th>\n",
       "      <th>total_il_high_credit_limit</th>\n",
       "    </tr>\n",
       "  </thead>\n",
       "  <tbody>\n",
       "    <tr>\n",
       "      <th>0</th>\n",
       "      <td>1077501</td>\n",
       "      <td>1296599</td>\n",
       "      <td>5000</td>\n",
       "      <td>5000</td>\n",
       "      <td>4975.0</td>\n",
       "      <td>36 months</td>\n",
       "      <td>10.65%</td>\n",
       "      <td>162.87</td>\n",
       "      <td>B</td>\n",
       "      <td>B2</td>\n",
       "      <td>...</td>\n",
       "      <td>NaN</td>\n",
       "      <td>NaN</td>\n",
       "      <td>NaN</td>\n",
       "      <td>NaN</td>\n",
       "      <td>0.0</td>\n",
       "      <td>0.0</td>\n",
       "      <td>NaN</td>\n",
       "      <td>NaN</td>\n",
       "      <td>NaN</td>\n",
       "      <td>NaN</td>\n",
       "    </tr>\n",
       "    <tr>\n",
       "      <th>1</th>\n",
       "      <td>1077430</td>\n",
       "      <td>1314167</td>\n",
       "      <td>2500</td>\n",
       "      <td>2500</td>\n",
       "      <td>2500.0</td>\n",
       "      <td>60 months</td>\n",
       "      <td>15.27%</td>\n",
       "      <td>59.83</td>\n",
       "      <td>C</td>\n",
       "      <td>C4</td>\n",
       "      <td>...</td>\n",
       "      <td>NaN</td>\n",
       "      <td>NaN</td>\n",
       "      <td>NaN</td>\n",
       "      <td>NaN</td>\n",
       "      <td>0.0</td>\n",
       "      <td>0.0</td>\n",
       "      <td>NaN</td>\n",
       "      <td>NaN</td>\n",
       "      <td>NaN</td>\n",
       "      <td>NaN</td>\n",
       "    </tr>\n",
       "    <tr>\n",
       "      <th>2</th>\n",
       "      <td>1077175</td>\n",
       "      <td>1313524</td>\n",
       "      <td>2400</td>\n",
       "      <td>2400</td>\n",
       "      <td>2400.0</td>\n",
       "      <td>36 months</td>\n",
       "      <td>15.96%</td>\n",
       "      <td>84.33</td>\n",
       "      <td>C</td>\n",
       "      <td>C5</td>\n",
       "      <td>...</td>\n",
       "      <td>NaN</td>\n",
       "      <td>NaN</td>\n",
       "      <td>NaN</td>\n",
       "      <td>NaN</td>\n",
       "      <td>0.0</td>\n",
       "      <td>0.0</td>\n",
       "      <td>NaN</td>\n",
       "      <td>NaN</td>\n",
       "      <td>NaN</td>\n",
       "      <td>NaN</td>\n",
       "    </tr>\n",
       "    <tr>\n",
       "      <th>3</th>\n",
       "      <td>1076863</td>\n",
       "      <td>1277178</td>\n",
       "      <td>10000</td>\n",
       "      <td>10000</td>\n",
       "      <td>10000.0</td>\n",
       "      <td>36 months</td>\n",
       "      <td>13.49%</td>\n",
       "      <td>339.31</td>\n",
       "      <td>C</td>\n",
       "      <td>C1</td>\n",
       "      <td>...</td>\n",
       "      <td>NaN</td>\n",
       "      <td>NaN</td>\n",
       "      <td>NaN</td>\n",
       "      <td>NaN</td>\n",
       "      <td>0.0</td>\n",
       "      <td>0.0</td>\n",
       "      <td>NaN</td>\n",
       "      <td>NaN</td>\n",
       "      <td>NaN</td>\n",
       "      <td>NaN</td>\n",
       "    </tr>\n",
       "    <tr>\n",
       "      <th>4</th>\n",
       "      <td>1075358</td>\n",
       "      <td>1311748</td>\n",
       "      <td>3000</td>\n",
       "      <td>3000</td>\n",
       "      <td>3000.0</td>\n",
       "      <td>60 months</td>\n",
       "      <td>12.69%</td>\n",
       "      <td>67.79</td>\n",
       "      <td>B</td>\n",
       "      <td>B5</td>\n",
       "      <td>...</td>\n",
       "      <td>NaN</td>\n",
       "      <td>NaN</td>\n",
       "      <td>NaN</td>\n",
       "      <td>NaN</td>\n",
       "      <td>0.0</td>\n",
       "      <td>0.0</td>\n",
       "      <td>NaN</td>\n",
       "      <td>NaN</td>\n",
       "      <td>NaN</td>\n",
       "      <td>NaN</td>\n",
       "    </tr>\n",
       "    <tr>\n",
       "      <th>...</th>\n",
       "      <td>...</td>\n",
       "      <td>...</td>\n",
       "      <td>...</td>\n",
       "      <td>...</td>\n",
       "      <td>...</td>\n",
       "      <td>...</td>\n",
       "      <td>...</td>\n",
       "      <td>...</td>\n",
       "      <td>...</td>\n",
       "      <td>...</td>\n",
       "      <td>...</td>\n",
       "      <td>...</td>\n",
       "      <td>...</td>\n",
       "      <td>...</td>\n",
       "      <td>...</td>\n",
       "      <td>...</td>\n",
       "      <td>...</td>\n",
       "      <td>...</td>\n",
       "      <td>...</td>\n",
       "      <td>...</td>\n",
       "      <td>...</td>\n",
       "    </tr>\n",
       "    <tr>\n",
       "      <th>39712</th>\n",
       "      <td>92187</td>\n",
       "      <td>92174</td>\n",
       "      <td>2500</td>\n",
       "      <td>2500</td>\n",
       "      <td>1075.0</td>\n",
       "      <td>36 months</td>\n",
       "      <td>8.07%</td>\n",
       "      <td>78.42</td>\n",
       "      <td>A</td>\n",
       "      <td>A4</td>\n",
       "      <td>...</td>\n",
       "      <td>NaN</td>\n",
       "      <td>NaN</td>\n",
       "      <td>NaN</td>\n",
       "      <td>NaN</td>\n",
       "      <td>NaN</td>\n",
       "      <td>NaN</td>\n",
       "      <td>NaN</td>\n",
       "      <td>NaN</td>\n",
       "      <td>NaN</td>\n",
       "      <td>NaN</td>\n",
       "    </tr>\n",
       "    <tr>\n",
       "      <th>39713</th>\n",
       "      <td>90665</td>\n",
       "      <td>90607</td>\n",
       "      <td>8500</td>\n",
       "      <td>8500</td>\n",
       "      <td>875.0</td>\n",
       "      <td>36 months</td>\n",
       "      <td>10.28%</td>\n",
       "      <td>275.38</td>\n",
       "      <td>C</td>\n",
       "      <td>C1</td>\n",
       "      <td>...</td>\n",
       "      <td>NaN</td>\n",
       "      <td>NaN</td>\n",
       "      <td>NaN</td>\n",
       "      <td>NaN</td>\n",
       "      <td>NaN</td>\n",
       "      <td>NaN</td>\n",
       "      <td>NaN</td>\n",
       "      <td>NaN</td>\n",
       "      <td>NaN</td>\n",
       "      <td>NaN</td>\n",
       "    </tr>\n",
       "    <tr>\n",
       "      <th>39714</th>\n",
       "      <td>90395</td>\n",
       "      <td>90390</td>\n",
       "      <td>5000</td>\n",
       "      <td>5000</td>\n",
       "      <td>1325.0</td>\n",
       "      <td>36 months</td>\n",
       "      <td>8.07%</td>\n",
       "      <td>156.84</td>\n",
       "      <td>A</td>\n",
       "      <td>A4</td>\n",
       "      <td>...</td>\n",
       "      <td>NaN</td>\n",
       "      <td>NaN</td>\n",
       "      <td>NaN</td>\n",
       "      <td>NaN</td>\n",
       "      <td>NaN</td>\n",
       "      <td>NaN</td>\n",
       "      <td>NaN</td>\n",
       "      <td>NaN</td>\n",
       "      <td>NaN</td>\n",
       "      <td>NaN</td>\n",
       "    </tr>\n",
       "    <tr>\n",
       "      <th>39715</th>\n",
       "      <td>90376</td>\n",
       "      <td>89243</td>\n",
       "      <td>5000</td>\n",
       "      <td>5000</td>\n",
       "      <td>650.0</td>\n",
       "      <td>36 months</td>\n",
       "      <td>7.43%</td>\n",
       "      <td>155.38</td>\n",
       "      <td>A</td>\n",
       "      <td>A2</td>\n",
       "      <td>...</td>\n",
       "      <td>NaN</td>\n",
       "      <td>NaN</td>\n",
       "      <td>NaN</td>\n",
       "      <td>NaN</td>\n",
       "      <td>NaN</td>\n",
       "      <td>NaN</td>\n",
       "      <td>NaN</td>\n",
       "      <td>NaN</td>\n",
       "      <td>NaN</td>\n",
       "      <td>NaN</td>\n",
       "    </tr>\n",
       "    <tr>\n",
       "      <th>39716</th>\n",
       "      <td>87023</td>\n",
       "      <td>86999</td>\n",
       "      <td>7500</td>\n",
       "      <td>7500</td>\n",
       "      <td>800.0</td>\n",
       "      <td>36 months</td>\n",
       "      <td>13.75%</td>\n",
       "      <td>255.43</td>\n",
       "      <td>E</td>\n",
       "      <td>E2</td>\n",
       "      <td>...</td>\n",
       "      <td>NaN</td>\n",
       "      <td>NaN</td>\n",
       "      <td>NaN</td>\n",
       "      <td>NaN</td>\n",
       "      <td>NaN</td>\n",
       "      <td>NaN</td>\n",
       "      <td>NaN</td>\n",
       "      <td>NaN</td>\n",
       "      <td>NaN</td>\n",
       "      <td>NaN</td>\n",
       "    </tr>\n",
       "  </tbody>\n",
       "</table>\n",
       "<p>39717 rows × 111 columns</p>\n",
       "</div>"
      ],
      "text/plain": [
       "            id  member_id  loan_amnt  funded_amnt  funded_amnt_inv  \\\n",
       "0      1077501    1296599       5000         5000           4975.0   \n",
       "1      1077430    1314167       2500         2500           2500.0   \n",
       "2      1077175    1313524       2400         2400           2400.0   \n",
       "3      1076863    1277178      10000        10000          10000.0   \n",
       "4      1075358    1311748       3000         3000           3000.0   \n",
       "...        ...        ...        ...          ...              ...   \n",
       "39712    92187      92174       2500         2500           1075.0   \n",
       "39713    90665      90607       8500         8500            875.0   \n",
       "39714    90395      90390       5000         5000           1325.0   \n",
       "39715    90376      89243       5000         5000            650.0   \n",
       "39716    87023      86999       7500         7500            800.0   \n",
       "\n",
       "             term int_rate  installment grade sub_grade  ...  \\\n",
       "0       36 months   10.65%       162.87     B        B2  ...   \n",
       "1       60 months   15.27%        59.83     C        C4  ...   \n",
       "2       36 months   15.96%        84.33     C        C5  ...   \n",
       "3       36 months   13.49%       339.31     C        C1  ...   \n",
       "4       60 months   12.69%        67.79     B        B5  ...   \n",
       "...           ...      ...          ...   ...       ...  ...   \n",
       "39712   36 months    8.07%        78.42     A        A4  ...   \n",
       "39713   36 months   10.28%       275.38     C        C1  ...   \n",
       "39714   36 months    8.07%       156.84     A        A4  ...   \n",
       "39715   36 months    7.43%       155.38     A        A2  ...   \n",
       "39716   36 months   13.75%       255.43     E        E2  ...   \n",
       "\n",
       "      num_tl_90g_dpd_24m num_tl_op_past_12m pct_tl_nvr_dlq  percent_bc_gt_75  \\\n",
       "0                    NaN                NaN            NaN               NaN   \n",
       "1                    NaN                NaN            NaN               NaN   \n",
       "2                    NaN                NaN            NaN               NaN   \n",
       "3                    NaN                NaN            NaN               NaN   \n",
       "4                    NaN                NaN            NaN               NaN   \n",
       "...                  ...                ...            ...               ...   \n",
       "39712                NaN                NaN            NaN               NaN   \n",
       "39713                NaN                NaN            NaN               NaN   \n",
       "39714                NaN                NaN            NaN               NaN   \n",
       "39715                NaN                NaN            NaN               NaN   \n",
       "39716                NaN                NaN            NaN               NaN   \n",
       "\n",
       "      pub_rec_bankruptcies tax_liens tot_hi_cred_lim total_bal_ex_mort  \\\n",
       "0                      0.0       0.0             NaN               NaN   \n",
       "1                      0.0       0.0             NaN               NaN   \n",
       "2                      0.0       0.0             NaN               NaN   \n",
       "3                      0.0       0.0             NaN               NaN   \n",
       "4                      0.0       0.0             NaN               NaN   \n",
       "...                    ...       ...             ...               ...   \n",
       "39712                  NaN       NaN             NaN               NaN   \n",
       "39713                  NaN       NaN             NaN               NaN   \n",
       "39714                  NaN       NaN             NaN               NaN   \n",
       "39715                  NaN       NaN             NaN               NaN   \n",
       "39716                  NaN       NaN             NaN               NaN   \n",
       "\n",
       "      total_bc_limit total_il_high_credit_limit  \n",
       "0                NaN                        NaN  \n",
       "1                NaN                        NaN  \n",
       "2                NaN                        NaN  \n",
       "3                NaN                        NaN  \n",
       "4                NaN                        NaN  \n",
       "...              ...                        ...  \n",
       "39712            NaN                        NaN  \n",
       "39713            NaN                        NaN  \n",
       "39714            NaN                        NaN  \n",
       "39715            NaN                        NaN  \n",
       "39716            NaN                        NaN  \n",
       "\n",
       "[39717 rows x 111 columns]"
      ]
     },
     "execution_count": 5,
     "metadata": {},
     "output_type": "execute_result"
    }
   ],
   "source": [
    "df_loan"
   ]
  },
  {
   "cell_type": "code",
   "execution_count": 6,
   "id": "b0642cec",
   "metadata": {},
   "outputs": [
    {
     "data": {
      "text/html": [
       "<div>\n",
       "<style scoped>\n",
       "    .dataframe tbody tr th:only-of-type {\n",
       "        vertical-align: middle;\n",
       "    }\n",
       "\n",
       "    .dataframe tbody tr th {\n",
       "        vertical-align: top;\n",
       "    }\n",
       "\n",
       "    .dataframe thead th {\n",
       "        text-align: right;\n",
       "    }\n",
       "</style>\n",
       "<table border=\"1\" class=\"dataframe\">\n",
       "  <thead>\n",
       "    <tr style=\"text-align: right;\">\n",
       "      <th></th>\n",
       "      <th>LoanStatNew</th>\n",
       "      <th>Description</th>\n",
       "    </tr>\n",
       "  </thead>\n",
       "  <tbody>\n",
       "    <tr>\n",
       "      <th>0</th>\n",
       "      <td>acc_now_delinq</td>\n",
       "      <td>The number of accounts on which the borrower i...</td>\n",
       "    </tr>\n",
       "    <tr>\n",
       "      <th>1</th>\n",
       "      <td>acc_open_past_24mths</td>\n",
       "      <td>Number of trades opened in past 24 months.</td>\n",
       "    </tr>\n",
       "    <tr>\n",
       "      <th>2</th>\n",
       "      <td>addr_state</td>\n",
       "      <td>The state provided by the borrower in the loan...</td>\n",
       "    </tr>\n",
       "    <tr>\n",
       "      <th>3</th>\n",
       "      <td>all_util</td>\n",
       "      <td>Balance to credit limit on all trades</td>\n",
       "    </tr>\n",
       "    <tr>\n",
       "      <th>4</th>\n",
       "      <td>annual_inc</td>\n",
       "      <td>The self-reported annual income provided by th...</td>\n",
       "    </tr>\n",
       "    <tr>\n",
       "      <th>...</th>\n",
       "      <td>...</td>\n",
       "      <td>...</td>\n",
       "    </tr>\n",
       "    <tr>\n",
       "      <th>112</th>\n",
       "      <td>verification_status</td>\n",
       "      <td>Indicates if income was verified by LC, not ve...</td>\n",
       "    </tr>\n",
       "    <tr>\n",
       "      <th>113</th>\n",
       "      <td>verified_status_joint</td>\n",
       "      <td>Indicates if the co-borrowers' joint income wa...</td>\n",
       "    </tr>\n",
       "    <tr>\n",
       "      <th>114</th>\n",
       "      <td>zip_code</td>\n",
       "      <td>The first 3 numbers of the zip code provided b...</td>\n",
       "    </tr>\n",
       "    <tr>\n",
       "      <th>115</th>\n",
       "      <td>NaN</td>\n",
       "      <td>NaN</td>\n",
       "    </tr>\n",
       "    <tr>\n",
       "      <th>116</th>\n",
       "      <td>NaN</td>\n",
       "      <td>* Employer Title replaces Employer Name for al...</td>\n",
       "    </tr>\n",
       "  </tbody>\n",
       "</table>\n",
       "<p>117 rows × 2 columns</p>\n",
       "</div>"
      ],
      "text/plain": [
       "               LoanStatNew                                        Description\n",
       "0           acc_now_delinq  The number of accounts on which the borrower i...\n",
       "1     acc_open_past_24mths         Number of trades opened in past 24 months.\n",
       "2               addr_state  The state provided by the borrower in the loan...\n",
       "3                 all_util              Balance to credit limit on all trades\n",
       "4               annual_inc  The self-reported annual income provided by th...\n",
       "..                     ...                                                ...\n",
       "112    verification_status  Indicates if income was verified by LC, not ve...\n",
       "113  verified_status_joint  Indicates if the co-borrowers' joint income wa...\n",
       "114               zip_code  The first 3 numbers of the zip code provided b...\n",
       "115                    NaN                                                NaN\n",
       "116                    NaN  * Employer Title replaces Employer Name for al...\n",
       "\n",
       "[117 rows x 2 columns]"
      ]
     },
     "execution_count": 6,
     "metadata": {},
     "output_type": "execute_result"
    }
   ],
   "source": [
    "df_colums #Column Definations"
   ]
  },
  {
   "cell_type": "code",
   "execution_count": 7,
   "id": "503171f7",
   "metadata": {},
   "outputs": [
    {
     "name": "stderr",
     "output_type": "stream",
     "text": [
      "C:\\Users\\rakes\\AppData\\Local\\Temp/ipykernel_19848/1948625304.py:1: FutureWarning: In a future version of pandas all arguments of DataFrame.dropna will be keyword-only\n",
      "  df_colums=df_colums.dropna(1,\"all\")#remove any nulls collums in the data\n"
     ]
    }
   ],
   "source": [
    "df_colums=df_colums.dropna(1,\"all\")#removing null collums"
   ]
  },
  {
   "cell_type": "code",
   "execution_count": 8,
   "id": "71526b1a",
   "metadata": {},
   "outputs": [
    {
     "data": {
      "text/plain": [
       "{'total_rev_hi_lim', 'verification_status_joint'}"
      ]
     },
     "execution_count": 8,
     "metadata": {},
     "output_type": "execute_result"
    }
   ],
   "source": [
    "set(df_loan.columns) - set(df_colums[\"LoanStatNew\"]) #difference in columns & columns defined data"
   ]
  },
  {
   "cell_type": "code",
   "execution_count": 9,
   "id": "bad781c8",
   "metadata": {},
   "outputs": [
    {
     "name": "stderr",
     "output_type": "stream",
     "text": [
      "C:\\Users\\rakes\\AppData\\Local\\Temp/ipykernel_19848/4035648525.py:1: FutureWarning: In a future version of pandas all arguments of DataFrame.drop except for the argument 'labels' will be keyword-only\n",
      "  df_loan=df_loan.drop(['total_rev_hi_lim', 'verification_status_joint'],1)\n"
     ]
    }
   ],
   "source": [
    "df_loan=df_loan.drop(['total_rev_hi_lim', 'verification_status_joint'],1)"
   ]
  },
  {
   "cell_type": "code",
   "execution_count": 10,
   "id": "983b06bb",
   "metadata": {},
   "outputs": [
    {
     "name": "stderr",
     "output_type": "stream",
     "text": [
      "C:\\Users\\rakes\\AppData\\Local\\Temp/ipykernel_19848/1065170344.py:1: FutureWarning: In a future version of pandas all arguments of DataFrame.dropna will be keyword-only\n",
      "  df_loan=df_loan.dropna(1,how=\"all\")\n"
     ]
    }
   ],
   "source": [
    "df_loan=df_loan.dropna(1,how=\"all\")"
   ]
  },
  {
   "cell_type": "code",
   "execution_count": 11,
   "id": "7c8a1b39",
   "metadata": {},
   "outputs": [
    {
     "data": {
      "text/plain": [
       "(39717, 57)"
      ]
     },
     "execution_count": 11,
     "metadata": {},
     "output_type": "execute_result"
    }
   ],
   "source": [
    "df_loan.shape"
   ]
  },
  {
   "cell_type": "code",
   "execution_count": 12,
   "id": "cb40616a",
   "metadata": {},
   "outputs": [
    {
     "data": {
      "text/plain": [
       "emp_title                      2459\n",
       "emp_length                     1075\n",
       "desc                          12940\n",
       "title                            11\n",
       "mths_since_last_delinq        25682\n",
       "mths_since_last_record        36931\n",
       "revol_util                       50\n",
       "last_pymnt_d                     71\n",
       "next_pymnt_d                  38577\n",
       "last_credit_pull_d                2\n",
       "collections_12_mths_ex_med       56\n",
       "chargeoff_within_12_mths         56\n",
       "pub_rec_bankruptcies            697\n",
       "tax_liens                        39\n",
       "dtype: int64"
      ]
     },
     "execution_count": 12,
     "metadata": {},
     "output_type": "execute_result"
    }
   ],
   "source": [
    "df_loan.isna().sum()[df_loan.isna().sum() > 0] "
   ]
  },
  {
   "cell_type": "code",
   "execution_count": 13,
   "id": "1b449fa4",
   "metadata": {},
   "outputs": [
    {
     "data": {
      "text/plain": [
       "<AxesSubplot:>"
      ]
     },
     "execution_count": 13,
     "metadata": {},
     "output_type": "execute_result"
    },
    {
     "data": {
      "image/png": "[encoded data removed]",
      "text/plain": [
       "<Figure size 432x288 with 1 Axes>"
      ]
     },
     "metadata": {
      "needs_background": "light"
     },
     "output_type": "display_data"
    }
   ],
   "source": [
    "df_loan.isna().sum().plot.box() #to know how many columns are very hight null values"
   ]
  },
  {
   "cell_type": "code",
   "execution_count": 14,
   "id": "97fb3e27",
   "metadata": {},
   "outputs": [
    {
     "name": "stderr",
     "output_type": "stream",
     "text": [
      "C:\\Users\\rakes\\AppData\\Local\\Temp/ipykernel_19848/3156224900.py:1: FutureWarning: In a future version of pandas all arguments of DataFrame.drop except for the argument 'labels' will be keyword-only\n",
      "  df_loan=df_loan.drop(['desc','mths_since_last_record','next_pymnt_d','mths_since_last_delinq'],1) # droping all outliers in box plot\n"
     ]
    }
   ],
   "source": [
    "df_loan=df_loan.drop(['desc','mths_since_last_record','next_pymnt_d','mths_since_last_delinq'],1) # droping all outliers in box plot"
   ]
  },
  {
   "cell_type": "code",
   "execution_count": 15,
   "id": "56fa1641",
   "metadata": {},
   "outputs": [],
   "source": [
    "df_loan=df_loan[~df_loan.pub_rec_bankruptcies.isna()]"
   ]
  },
  {
   "cell_type": "code",
   "execution_count": 16,
   "id": "14049454",
   "metadata": {},
   "outputs": [],
   "source": [
    "df_loan=df_loan[~df_loan.emp_title.isna()]"
   ]
  },
  {
   "cell_type": "code",
   "execution_count": 17,
   "id": "d6983f19",
   "metadata": {},
   "outputs": [],
   "source": [
    "df_loan = df_loan[~df_loan[\"emp_length\"].isna()] # removing null values "
   ]
  },
  {
   "cell_type": "code",
   "execution_count": 18,
   "id": "061f8c3f",
   "metadata": {},
   "outputs": [
    {
     "data": {
      "text/plain": [
       "title                          9\n",
       "revol_util                    46\n",
       "last_pymnt_d                  64\n",
       "collections_12_mths_ex_med     2\n",
       "chargeoff_within_12_mths       2\n",
       "dtype: int64"
      ]
     },
     "execution_count": 18,
     "metadata": {},
     "output_type": "execute_result"
    }
   ],
   "source": [
    "df_loan.isna().sum()[df_loan.isna().sum() > 0] "
   ]
  },
  {
   "cell_type": "code",
   "execution_count": 19,
   "id": "ddb22e30",
   "metadata": {},
   "outputs": [
    {
     "data": {
      "text/plain": [
       "(36548, 53)"
      ]
     },
     "execution_count": 19,
     "metadata": {},
     "output_type": "execute_result"
    }
   ],
   "source": [
    "df_loan.shape "
   ]
  },
  {
   "cell_type": "code",
   "execution_count": 20,
   "id": "b7e6001a",
   "metadata": {},
   "outputs": [
    {
     "data": {
      "text/plain": [
       "Index(['id', 'member_id', 'loan_amnt', 'funded_amnt', 'funded_amnt_inv',\n",
       "       'term', 'int_rate', 'installment', 'grade', 'sub_grade', 'emp_title',\n",
       "       'emp_length', 'home_ownership', 'annual_inc', 'verification_status',\n",
       "       'issue_d', 'loan_status', 'pymnt_plan', 'url', 'purpose', 'title',\n",
       "       'zip_code', 'addr_state', 'dti', 'delinq_2yrs', 'earliest_cr_line',\n",
       "       'inq_last_6mths', 'open_acc', 'pub_rec', 'revol_bal', 'revol_util',\n",
       "       'total_acc', 'initial_list_status', 'out_prncp', 'out_prncp_inv',\n",
       "       'total_pymnt', 'total_pymnt_inv', 'total_rec_prncp', 'total_rec_int',\n",
       "       'total_rec_late_fee', 'recoveries', 'collection_recovery_fee',\n",
       "       'last_pymnt_d', 'last_pymnt_amnt', 'last_credit_pull_d',\n",
       "       'collections_12_mths_ex_med', 'policy_code', 'application_type',\n",
       "       'acc_now_delinq', 'chargeoff_within_12_mths', 'delinq_amnt',\n",
       "       'pub_rec_bankruptcies', 'tax_liens'],\n",
       "      dtype='object')"
      ]
     },
     "execution_count": 20,
     "metadata": {},
     "output_type": "execute_result"
    }
   ],
   "source": [
    "df_loan.columns"
   ]
  },
  {
   "cell_type": "code",
   "execution_count": 21,
   "id": "910a1909",
   "metadata": {},
   "outputs": [],
   "source": [
    "df_loan[\"id\"]= df_loan[\"id\"].astype('string')"
   ]
  },
  {
   "cell_type": "code",
   "execution_count": 22,
   "id": "ec8ed1d8",
   "metadata": {},
   "outputs": [],
   "source": [
    "df_loan[\"member_id\"] = df_loan[\"member_id\"].astype('string')"
   ]
  },
  {
   "cell_type": "code",
   "execution_count": 23,
   "id": "98097465",
   "metadata": {},
   "outputs": [
    {
     "data": {
      "text/plain": [
       "count    36548.000000\n",
       "mean     11294.866340\n",
       "std       7435.395805\n",
       "min        500.000000\n",
       "25%       5600.000000\n",
       "50%      10000.000000\n",
       "75%      15000.000000\n",
       "max      35000.000000\n",
       "Name: loan_amnt, dtype: float64"
      ]
     },
     "execution_count": 23,
     "metadata": {},
     "output_type": "execute_result"
    }
   ],
   "source": [
    "df_loan[\"loan_amnt\"].describe()"
   ]
  },
  {
   "cell_type": "code",
   "execution_count": 24,
   "id": "d196c3d4",
   "metadata": {},
   "outputs": [
    {
     "name": "stderr",
     "output_type": "stream",
     "text": [
      "C:\\Users\\rakes\\anaconda3\\lib\\site-packages\\seaborn\\distributions.py:2619: FutureWarning: `distplot` is a deprecated function and will be removed in a future version. Please adapt your code to use either `displot` (a figure-level function with similar flexibility) or `histplot` (an axes-level function for histograms).\n",
      "  warnings.warn(msg, FutureWarning)\n"
     ]
    },
    {
     "data": {
      "image/png": "[encoded data removed]",
      "text/plain": [
       "<Figure size 432x288 with 1 Axes>"
      ]
     },
     "metadata": {},
     "output_type": "display_data"
    }
   ],
   "source": [
    "#ploting the graph \n",
    "sns.set_style(\"white\")\n",
    "sns.distplot(df_loan.loan_amnt, color=\"g\")\n",
    "\n",
    "# Labeling Axes\n",
    "plt.xlabel(\"Density\", fontdict={'fontsize': 12, 'fontweight' : 5, 'color' : 'Brown'})\n",
    "plt.ylabel(\"Loan Amount\", fontdict={'fontsize': 12, 'fontweight' : 5, 'color' : 'Brown'})\n",
    "\n",
    "# Adding and formatting title\n",
    "plt.title(\"Distribution of loan amount\\n\", fontdict={'fontsize': 20, 'fontweight' : 5, 'color' : 'Green'})\n",
    "\n",
    "plt.show()"
   ]
  },
  {
   "cell_type": "code",
   "execution_count": 25,
   "id": "b658c320",
   "metadata": {},
   "outputs": [
    {
     "data": {
      "text/plain": [
       "count    36548.000000\n",
       "mean     11020.644769\n",
       "std       7168.173439\n",
       "min        500.000000\n",
       "25%       5500.000000\n",
       "50%      10000.000000\n",
       "75%      15000.000000\n",
       "max      35000.000000\n",
       "Name: funded_amnt, dtype: float64"
      ]
     },
     "execution_count": 25,
     "metadata": {},
     "output_type": "execute_result"
    }
   ],
   "source": [
    "df_loan[\"funded_amnt\"].describe()"
   ]
  },
  {
   "cell_type": "code",
   "execution_count": 26,
   "id": "75887571",
   "metadata": {},
   "outputs": [],
   "source": [
    "df_loan[\"loan_approval\"] = df_loan[\"funded_amnt\"]/df_loan[\"loan_amnt\"]*100"
   ]
  },
  {
   "cell_type": "code",
   "execution_count": 27,
   "id": "60a7f2df",
   "metadata": {},
   "outputs": [
    {
     "data": {
      "image/png": "[encoded data removed]",
      "text/plain": [
       "<Figure size 432x288 with 1 Axes>"
      ]
     },
     "metadata": {},
     "output_type": "display_data"
    }
   ],
   "source": [
    "# plotting bar chart and setting bar width to 0.5 and aligning it to center\n",
    "plt.hist(df_loan[\"loan_approval\"], bins=5, align='mid', edgecolor='Orange',color='cyan')\n",
    "\n",
    "# Adding and formatting title\n",
    "plt.title(\"Ratio of loan approved amount\\n\", fontdict={'fontsize': 20, 'fontweight' : 5, 'color' : 'Green'})\n",
    "\n",
    "# Labeling Axes\n",
    "plt.xlabel(\"Percentage of amount approved\", fontdict={'fontsize': 12, 'fontweight' : 5, 'color' : 'Brown'})\n",
    "plt.ylabel(\"Count\", fontdict={'fontsize': 12, 'fontweight' : 5, 'color' : 'Brown'})\n",
    "\n",
    "plt.show()"
   ]
  },
  {
   "cell_type": "code",
   "execution_count": 28,
   "id": "ca5470ae",
   "metadata": {},
   "outputs": [
    {
     "data": {
      "text/plain": [
       "count    36548.000000\n",
       "mean     10586.433390\n",
       "std       7073.216233\n",
       "min          0.000000\n",
       "25%       5000.000000\n",
       "50%       9175.000000\n",
       "75%      14500.000000\n",
       "max      35000.000000\n",
       "Name: funded_amnt_inv, dtype: float64"
      ]
     },
     "execution_count": 28,
     "metadata": {},
     "output_type": "execute_result"
    }
   ],
   "source": [
    "df_loan[\"funded_amnt_inv\"].describe()"
   ]
  },
  {
   "cell_type": "code",
   "execution_count": 29,
   "id": "f2124849",
   "metadata": {},
   "outputs": [],
   "source": [
    "zero_inv=df_loan[df_loan[\"funded_amnt_inv\"] == 0] # there are 129 row with 0"
   ]
  },
  {
   "cell_type": "code",
   "execution_count": 30,
   "id": "94ca563b",
   "metadata": {},
   "outputs": [
    {
     "data": {
      "image/png": "[encoded data removed]",
      "text/plain": [
       "<Figure size 432x288 with 1 Axes>"
      ]
     },
     "metadata": {},
     "output_type": "display_data"
    }
   ],
   "source": [
    "# plotting bar chart and setting bar width to 0.5 and aligning it to center\n",
    "zero_inv.loan_status.value_counts().plot.bar(align='center', edgecolor='Orange',color='cyan')\n",
    "\n",
    "# Adding and formatting title\n",
    "plt.title(\"People who were not accepted to fund by invester\\n\", fontdict={'fontsize': 20, 'fontweight' : 5, 'color' : 'Green'})\n",
    "\n",
    "# Labeling Axes\n",
    "plt.xlabel(\"Loan Status\", fontdict={'fontsize': 12, 'fontweight' : 5, 'color' : 'Brown'})\n",
    "plt.ylabel(\"Count\", fontdict={'fontsize': 12, 'fontweight' : 5, 'color' : 'Brown'})\n",
    "\n",
    "plt.show()"
   ]
  },
  {
   "cell_type": "code",
   "execution_count": 31,
   "id": "733a8ec1",
   "metadata": {},
   "outputs": [
    {
     "data": {
      "text/plain": [
       " 36 months    26471\n",
       " 60 months    10077\n",
       "Name: term, dtype: int64"
      ]
     },
     "execution_count": 31,
     "metadata": {},
     "output_type": "execute_result"
    }
   ],
   "source": [
    "df_loan[\"term\"].value_counts()"
   ]
  },
  {
   "cell_type": "code",
   "execution_count": 32,
   "id": "5dded5e8",
   "metadata": {},
   "outputs": [
    {
     "data": {
      "image/png": "[encoded data removed]",
      "text/plain": [
       "<Figure size 432x288 with 1 Axes>"
      ]
     },
     "metadata": {},
     "output_type": "display_data"
    }
   ],
   "source": [
    "# plotting bar chart and setting bar aligning it to center\n",
    "df_loan[\"term\"].value_counts().plot.bar(align='center', edgecolor='Orange',color='cyan')\n",
    "\n",
    "# Adding and formatting title\n",
    "plt.title(\"Understanding how people took the terms\\n\", fontdict={'fontsize': 20, 'fontweight' : 5, 'color' : 'Green'})\n",
    "\n",
    "# Labeling Axes\n",
    "plt.xlabel(\"Term\", fontdict={'fontsize': 12, 'fontweight' : 5, 'color' : 'Brown'})\n",
    "plt.ylabel(\"Count\", fontdict={'fontsize': 12, 'fontweight' : 5, 'color' : 'Brown'})\n",
    "\n",
    "plt.show()"
   ]
  },
  {
   "cell_type": "code",
   "execution_count": 33,
   "id": "642b8cb1",
   "metadata": {},
   "outputs": [
    {
     "data": {
      "text/plain": [
       "10.99%    901\n",
       "13.49%    787\n",
       "11.49%    772\n",
       "7.51%     732\n",
       "7.88%     674\n",
       "         ... \n",
       "24.40%      1\n",
       "22.94%      1\n",
       "13.84%      1\n",
       "16.96%      1\n",
       "11.22%      1\n",
       "Name: int_rate, Length: 334, dtype: int64"
      ]
     },
     "execution_count": 33,
     "metadata": {},
     "output_type": "execute_result"
    }
   ],
   "source": [
    "df_loan[\"int_rate\"].value_counts() #we have to fix the data type string -> float"
   ]
  },
  {
   "cell_type": "code",
   "execution_count": 34,
   "id": "db89380a",
   "metadata": {},
   "outputs": [],
   "source": [
    "def remove_last_char_tofloat(x): # creating a generic function which will remove '%' and convert into flaot\n",
    "    x = x[:-1]\n",
    "    return float(x) "
   ]
  },
  {
   "cell_type": "code",
   "execution_count": 35,
   "id": "00d57291",
   "metadata": {},
   "outputs": [],
   "source": [
    "#applying the function to columns\n",
    "df_loan[\"int_rate\"]=df_loan[\"int_rate\"].apply(remove_last_char_tofloat)"
   ]
  },
  {
   "cell_type": "code",
   "execution_count": 36,
   "id": "5042a4d9",
   "metadata": {},
   "outputs": [
    {
     "data": {
      "text/plain": [
       "dtype('float64')"
      ]
     },
     "execution_count": 36,
     "metadata": {},
     "output_type": "execute_result"
    }
   ],
   "source": [
    "df_loan[\"int_rate\"].dtype"
   ]
  },
  {
   "cell_type": "code",
   "execution_count": 37,
   "id": "54c8e076",
   "metadata": {},
   "outputs": [
    {
     "data": {
      "text/plain": [
       "count    36548.000000\n",
       "mean        12.081942\n",
       "std          3.735718\n",
       "min          5.420000\n",
       "25%          9.320000\n",
       "50%         11.860000\n",
       "75%         14.650000\n",
       "max         24.400000\n",
       "Name: int_rate, dtype: float64"
      ]
     },
     "execution_count": 37,
     "metadata": {},
     "output_type": "execute_result"
    }
   ],
   "source": [
    "df_loan[\"int_rate\"].describe()"
   ]
  },
  {
   "cell_type": "code",
   "execution_count": 38,
   "id": "355a1529",
   "metadata": {},
   "outputs": [
    {
     "data": {
      "image/png": "[encoded data removed]",
      "text/plain": [
       "<Figure size 432x288 with 1 Axes>"
      ]
     },
     "metadata": {},
     "output_type": "display_data"
    }
   ],
   "source": [
    "# plotting bar chart and setting bar aligning it to center\n",
    "df_loan[\"int_rate\"].plot.box(color='springgreen')\n",
    "\n",
    "# Adding and formatting title\n",
    "plt.title(\"Understanding the Distribution of Interest Rates\\n\", fontdict={'fontsize': 20, 'fontweight' : 5, 'color' : 'Green'})\n",
    "\n",
    "# Labeling Axes\n",
    "plt.ylabel(\"Intrest\", fontdict={'fontsize': 12, 'fontweight' : 5, 'color' : 'Brown'})\n",
    "\n",
    "plt.show()"
   ]
  },
  {
   "cell_type": "code",
   "execution_count": 39,
   "id": "2ce83392",
   "metadata": {},
   "outputs": [
    {
     "data": {
      "text/plain": [
       "count    36548.000000\n",
       "mean       325.860813\n",
       "std        207.420129\n",
       "min         16.080000\n",
       "25%        168.730000\n",
       "50%        282.955000\n",
       "75%        431.682500\n",
       "max       1305.190000\n",
       "Name: installment, dtype: float64"
      ]
     },
     "execution_count": 39,
     "metadata": {},
     "output_type": "execute_result"
    }
   ],
   "source": [
    "df_loan[\"installment\"].describe()"
   ]
  },
  {
   "cell_type": "code",
   "execution_count": 40,
   "id": "40ce8f70",
   "metadata": {},
   "outputs": [],
   "source": [
    "df_loan= df_loan[df_loan[\"installment\"] < 700] ## removing the ouliers "
   ]
  },
  {
   "cell_type": "code",
   "execution_count": 41,
   "id": "4bb138ec",
   "metadata": {},
   "outputs": [
    {
     "data": {
      "image/png": "[encoded data removed]",
      "text/plain": [
       "<Figure size 432x288 with 1 Axes>"
      ]
     },
     "metadata": {},
     "output_type": "display_data"
    }
   ],
   "source": [
    "# plotting bar chart and setting bar aligning it to center\n",
    "df_loan[\"installment\"].plot.box(color='springgreen')\n",
    "\n",
    "# Adding and formatting title\n",
    "plt.title(\"Understanding the Distribution of Monthly Installment Money\\n\", fontdict={'fontsize': 20, 'fontweight' : 5, 'color' : 'Green'})\n",
    "\n",
    "# Labeling Axes\n",
    "plt.ylabel(\"Installment Money(US)\", fontdict={'fontsize': 12, 'fontweight' : 5, 'color' : 'Brown'})\n",
    "\n",
    "plt.show()"
   ]
  },
  {
   "cell_type": "code",
   "execution_count": 42,
   "id": "b09baccf",
   "metadata": {},
   "outputs": [
    {
     "data": {
      "text/plain": [
       "B    10436\n",
       "A     8986\n",
       "C     7132\n",
       "D     4482\n",
       "E     2267\n",
       "F      765\n",
       "G      216\n",
       "Name: grade, dtype: int64"
      ]
     },
     "execution_count": 42,
     "metadata": {},
     "output_type": "execute_result"
    }
   ],
   "source": [
    "df_loan[\"grade\"].value_counts()"
   ]
  },
  {
   "cell_type": "code",
   "execution_count": 43,
   "id": "c839f902",
   "metadata": {},
   "outputs": [
    {
     "data": {
      "image/png": "[encoded data removed]",
      "text/plain": [
       "<Figure size 432x288 with 1 Axes>"
      ]
     },
     "metadata": {},
     "output_type": "display_data"
    }
   ],
   "source": [
    "# plotting bar chart and setting bar aligning it to center\n",
    "df_loan[\"grade\"].value_counts().plot.bar(align='center', edgecolor='Orange',color='cyan')\n",
    "\n",
    "# Adding and formatting title\n",
    "plt.title(\"Number of Grades In the Data \\n\", fontdict={'fontsize': 20, 'fontweight' : 5, 'color' : 'Green'})\n",
    "\n",
    "# Labeling Axes\n",
    "plt.xlabel(\"Grades\", fontdict={'fontsize': 12, 'fontweight' : 5, 'color' : 'Brown'})\n",
    "plt.ylabel(\"Count\", fontdict={'fontsize': 12, 'fontweight' : 5, 'color' : 'Brown'})\n",
    "\n",
    "plt.show()"
   ]
  },
  {
   "cell_type": "code",
   "execution_count": 44,
   "id": "f1ec38e7",
   "metadata": {},
   "outputs": [
    {
     "data": {
      "text/plain": [
       "A4    2576\n",
       "B3    2498\n",
       "A5    2461\n",
       "B5    2377\n",
       "B4    2183\n",
       "C1    1847\n",
       "C2    1790\n",
       "B2    1783\n",
       "A3    1608\n",
       "B1    1595\n",
       "C3    1376\n",
       "A2    1336\n",
       "D2    1166\n",
       "C4    1085\n",
       "C5    1034\n",
       "A1    1005\n",
       "D3     996\n",
       "D4     819\n",
       "D1     779\n",
       "D5     722\n",
       "E1     628\n",
       "E2     541\n",
       "E3     445\n",
       "E4     358\n",
       "E5     295\n",
       "F1     244\n",
       "F2     192\n",
       "F3     136\n",
       "F4     119\n",
       "F5      74\n",
       "G1      69\n",
       "G2      53\n",
       "G4      42\n",
       "G3      34\n",
       "G5      18\n",
       "Name: sub_grade, dtype: int64"
      ]
     },
     "execution_count": 44,
     "metadata": {},
     "output_type": "execute_result"
    }
   ],
   "source": [
    "df_loan[\"sub_grade\"].value_counts()"
   ]
  },
  {
   "cell_type": "code",
   "execution_count": 45,
   "id": "72798f35",
   "metadata": {},
   "outputs": [
    {
     "data": {
      "text/plain": [
       "US Army                                117\n",
       "Bank of America                        104\n",
       "IBM                                     56\n",
       "Wells Fargo                             52\n",
       "AT&T                                    52\n",
       "                                      ... \n",
       "Jessamine County Board of Education      1\n",
       "First Health Montgomery Hospital         1\n",
       "Aegir Systems                            1\n",
       "Intermark Group                          1\n",
       "Fairfield Manufacturing                  1\n",
       "Name: emp_title, Length: 26769, dtype: int64"
      ]
     },
     "execution_count": 45,
     "metadata": {},
     "output_type": "execute_result"
    }
   ],
   "source": [
    "df_loan[\"emp_title\"].value_counts()"
   ]
  },
  {
   "cell_type": "code",
   "execution_count": 46,
   "id": "5cf2fa06",
   "metadata": {},
   "outputs": [
    {
     "data": {
      "text/plain": [
       "0"
      ]
     },
     "execution_count": 46,
     "metadata": {},
     "output_type": "execute_result"
    }
   ],
   "source": [
    "df_loan[\"emp_title\"].isna().sum()"
   ]
  },
  {
   "cell_type": "code",
   "execution_count": 47,
   "id": "85c329ff",
   "metadata": {},
   "outputs": [
    {
     "data": {
      "text/plain": [
       "count    26769.000000\n",
       "mean         1.280735\n",
       "std          1.925864\n",
       "min          1.000000\n",
       "25%          1.000000\n",
       "50%          1.000000\n",
       "75%          1.000000\n",
       "max        117.000000\n",
       "Name: emp_title, dtype: float64"
      ]
     },
     "execution_count": 47,
     "metadata": {},
     "output_type": "execute_result"
    }
   ],
   "source": [
    "df_loan[\"emp_title\"].value_counts().describe()"
   ]
  },
  {
   "cell_type": "code",
   "execution_count": 48,
   "id": "d9d92f99",
   "metadata": {},
   "outputs": [
    {
     "data": {
      "image/png": "[encoded data removed]",
      "text/plain": [
       "<Figure size 432x288 with 1 Axes>"
      ]
     },
     "metadata": {},
     "output_type": "display_data"
    }
   ],
   "source": [
    "# plotting bar chart and setting bar aligning it to center\n",
    "df_loan[\"emp_length\"].value_counts().plot.bar(align='center', edgecolor='Orange',color='cyan')\n",
    "\n",
    "# Adding and formatting title\n",
    "plt.title(\"Understanding Employment length Data\\n\", fontdict={'fontsize': 20, 'fontweight' : 5, 'color' : 'Green'})\n",
    "\n",
    "# Labeling Axes\n",
    "plt.xlabel(\"Years\", fontdict={'fontsize': 12, 'fontweight' : 5, 'color' : 'Brown'})\n",
    "plt.ylabel(\"Count\", fontdict={'fontsize': 12, 'fontweight' : 5, 'color' : 'Brown'})\n",
    "\n",
    "plt.show()"
   ]
  },
  {
   "cell_type": "code",
   "execution_count": 49,
   "id": "c6fa7ab5",
   "metadata": {},
   "outputs": [],
   "source": [
    "def clean_emp_year(x):\n",
    "    x =  x.replace(\"years\" , \"\")\n",
    "    x =  x.replace(\"year\" , \"\")\n",
    "    x = x.replace(\"< 1\" , \"0\")\n",
    "    x = x.replace(\"+\" , \"\")\n",
    "    return int(x) "
   ]
  },
  {
   "cell_type": "code",
   "execution_count": 50,
   "id": "06068073",
   "metadata": {},
   "outputs": [],
   "source": [
    "df_loan[\"emp_length\"] = df_loan[\"emp_length\"].apply(clean_emp_year)#cleaning the data "
   ]
  },
  {
   "cell_type": "code",
   "execution_count": 51,
   "id": "446e21ad",
   "metadata": {},
   "outputs": [],
   "source": [
    "df_loan = df_loan[~(df_loan[\"home_ownership\"] == \"NONE\")]# droping the rows with none"
   ]
  },
  {
   "cell_type": "code",
   "execution_count": 52,
   "id": "8811b533",
   "metadata": {},
   "outputs": [],
   "source": [
    "df_loan = df_loan[~(df_loan[\"home_ownership\"] == \"OTHER\")]# droping the rows with Other value"
   ]
  },
  {
   "cell_type": "code",
   "execution_count": 53,
   "id": "316a0b2d",
   "metadata": {},
   "outputs": [
    {
     "data": {
      "image/png": "[encoded data removed]",
      "text/plain": [
       "<Figure size 432x288 with 1 Axes>"
      ]
     },
     "metadata": {},
     "output_type": "display_data"
    }
   ],
   "source": [
    "# plotting bar chart and setting bar aligning it to center\n",
    "df_loan[\"home_ownership\"].value_counts().apply(lambda x : x /df_loan[\"home_ownership\"].shape[0]*100).plot.bar(align='center', edgecolor='Orange',color='cyan')\n",
    "\n",
    "# Adding and formatting title\n",
    "plt.title(\"Understanding Home Ownership Data\\n\", fontdict={'fontsize': 20, 'fontweight' : 5, 'color' : 'Green'})\n",
    "\n",
    "# Labeling Axes\n",
    "plt.xlabel(\"Type\", fontdict={'fontsize': 12, 'fontweight' : 5, 'color' : 'Brown'})\n",
    "plt.ylabel(\"Count\", fontdict={'fontsize': 12, 'fontweight' : 5, 'color' : 'Brown'})\n",
    "\n",
    "plt.show()"
   ]
  },
  {
   "cell_type": "code",
   "execution_count": 54,
   "id": "dc0ae558",
   "metadata": {},
   "outputs": [
    {
     "data": {
      "text/plain": [
       "6000000.0"
      ]
     },
     "execution_count": 54,
     "metadata": {},
     "output_type": "execute_result"
    }
   ],
   "source": [
    "df_loan[\"annual_inc\"].max()"
   ]
  },
  {
   "cell_type": "code",
   "execution_count": 55,
   "id": "62bed07b",
   "metadata": {},
   "outputs": [
    {
     "data": {
      "text/plain": [
       "4000.0"
      ]
     },
     "execution_count": 55,
     "metadata": {},
     "output_type": "execute_result"
    }
   ],
   "source": [
    "df_loan[\"annual_inc\"].min()"
   ]
  },
  {
   "cell_type": "code",
   "execution_count": 56,
   "id": "5ade8aa3",
   "metadata": {},
   "outputs": [
    {
     "data": {
      "text/plain": [
       "<AxesSubplot:>"
      ]
     },
     "execution_count": 56,
     "metadata": {},
     "output_type": "execute_result"
    },
    {
     "data": {
      "image/png": "[encoded data removed]",
      "text/plain": [
       "<Figure size 432x288 with 1 Axes>"
      ]
     },
     "metadata": {},
     "output_type": "display_data"
    }
   ],
   "source": [
    "df_loan[\"annual_inc\"].plot.box()"
   ]
  },
  {
   "cell_type": "code",
   "execution_count": 57,
   "id": "92d2d13b",
   "metadata": {},
   "outputs": [
    {
     "data": {
      "text/plain": [
       "(34192, 54)"
      ]
     },
     "execution_count": 57,
     "metadata": {},
     "output_type": "execute_result"
    }
   ],
   "source": [
    "df_loan.shape # before droping the values"
   ]
  },
  {
   "cell_type": "code",
   "execution_count": 58,
   "id": "20d570ee",
   "metadata": {},
   "outputs": [
    {
     "data": {
      "text/plain": [
       "109000.0"
      ]
     },
     "execution_count": 58,
     "metadata": {},
     "output_type": "execute_result"
    }
   ],
   "source": [
    "np.percentile(df_loan[\"annual_inc\"],90)"
   ]
  },
  {
   "cell_type": "code",
   "execution_count": 59,
   "id": "756c7c22",
   "metadata": {},
   "outputs": [],
   "source": [
    "df_loan = df_loan[df_loan[\"annual_inc\"] < 116000.0] # after droping the values "
   ]
  },
  {
   "cell_type": "code",
   "execution_count": 60,
   "id": "7c97b83d",
   "metadata": {},
   "outputs": [
    {
     "data": {
      "image/png": "[encoded data removed]",
      "text/plain": [
       "<Figure size 432x288 with 1 Axes>"
      ]
     },
     "metadata": {},
     "output_type": "display_data"
    }
   ],
   "source": [
    "# plotting bar chart and setting bar aligning it to center\n",
    "df_loan[\"annual_inc\"].plot.box(color='springgreen')\n",
    "\n",
    "# Adding and formatting title\n",
    "plt.title(\"Understanding the Distribution of Annual Income\\n\", fontdict={'fontsize': 20, 'fontweight' : 5, 'color' : 'Green'})\n",
    "\n",
    "# Labeling Axes\n",
    "plt.ylabel(\"Income(US)\", fontdict={'fontsize': 12, 'fontweight' : 5, 'color' : 'Brown'})\n",
    "\n",
    "plt.show()"
   ]
  },
  {
   "cell_type": "code",
   "execution_count": 61,
   "id": "aa96a69e",
   "metadata": {},
   "outputs": [
    {
     "data": {
      "image/png": "[encoded data removed]",
      "text/plain": [
       "<Figure size 432x288 with 1 Axes>"
      ]
     },
     "metadata": {},
     "output_type": "display_data"
    }
   ],
   "source": [
    "# plotting bar chart and setting bar aligning it to center\n",
    "df_loan[\"verification_status\"].apply(lambda x : \"Verified\" if x == \"Source Verified\" else x).value_counts().plot.bar(align='center', edgecolor='Orange',color='cyan')\n",
    "\n",
    "# Adding and formatting title\n",
    "plt.title(\"Understanding Verified Status of Annual Income\\n\", fontdict={'fontsize': 20, 'fontweight' : 5, 'color' : 'Green'})\n",
    "\n",
    "# Labeling Axes\n",
    "plt.xlabel(\"Value\", fontdict={'fontsize': 12, 'fontweight' : 5, 'color' : 'Brown'})\n",
    "plt.ylabel(\"Count\", fontdict={'fontsize': 12, 'fontweight' : 5, 'color' : 'Brown'})\n",
    "\n",
    "plt.show()"
   ]
  },
  {
   "cell_type": "code",
   "execution_count": 62,
   "id": "ea74a159",
   "metadata": {},
   "outputs": [
    {
     "data": {
      "text/plain": [
       "Dec-11    1819\n",
       "Nov-11    1719\n",
       "Sep-11    1589\n",
       "Oct-11    1588\n",
       "Aug-11    1521\n",
       "Jul-11    1505\n",
       "Jun-11    1458\n",
       "May-11    1384\n",
       "Apr-11    1261\n",
       "Mar-11    1145\n",
       "Jan-11    1143\n",
       "Feb-11    1031\n",
       "Dec-10    1025\n",
       "Jul-10     960\n",
       "Nov-10     937\n",
       "Oct-10     928\n",
       "Aug-10     919\n",
       "Sep-10     905\n",
       "Jun-10     869\n",
       "May-10     752\n",
       "Apr-10     671\n",
       "Mar-10     574\n",
       "Feb-10     487\n",
       "Nov-09     461\n",
       "Jan-10     427\n",
       "Dec-09     427\n",
       "Oct-09     417\n",
       "Sep-09     383\n",
       "Aug-09     348\n",
       "Jul-09     309\n",
       "Jun-09     305\n",
       "May-09     268\n",
       "Mar-09     249\n",
       "Apr-09     245\n",
       "Feb-09     222\n",
       "Jan-09     202\n",
       "Dec-08     179\n",
       "Nov-08     154\n",
       "Apr-08     130\n",
       "Mar-08      99\n",
       "Oct-08      77\n",
       "Jul-08      74\n",
       "May-08      63\n",
       "Aug-08      61\n",
       "Jun-08      56\n",
       "Sep-08      27\n",
       "Feb-08       6\n",
       "Jan-08       6\n",
       "Dec-07       2\n",
       "Aug-07       2\n",
       "Nov-07       1\n",
       "Oct-07       1\n",
       "Name: issue_d, dtype: int64"
      ]
     },
     "execution_count": 62,
     "metadata": {},
     "output_type": "execute_result"
    }
   ],
   "source": [
    "df_loan[\"issue_d\"].value_counts()"
   ]
  },
  {
   "cell_type": "code",
   "execution_count": 63,
   "id": "0cb76b35",
   "metadata": {},
   "outputs": [],
   "source": [
    "df_loan[\"issue_d_month\"]=df_loan[\"issue_d\"].apply(lambda x : x[:3])"
   ]
  },
  {
   "cell_type": "code",
   "execution_count": 64,
   "id": "3d1dd555",
   "metadata": {},
   "outputs": [],
   "source": [
    "df_loan[\"issue_d_year\"] = df_loan[\"issue_d\"].apply(lambda x : x[4:])"
   ]
  },
  {
   "cell_type": "code",
   "execution_count": 65,
   "id": "829a3459",
   "metadata": {},
   "outputs": [
    {
     "data": {
      "image/png": "[encoded data removed]",
      "text/plain": [
       "<Figure size 720x432 with 1 Axes>"
      ]
     },
     "metadata": {},
     "output_type": "display_data"
    }
   ],
   "source": [
    "plt.figure(figsize = (10,6))\n",
    "\n",
    "# plotting bar chart and setting bar aligning it to center\n",
    "df_loan[\"issue_d_month\"].value_counts().plot.bar(align='center', edgecolor='Orange',color='cyan')\n",
    "\n",
    "# Adding and formatting title\n",
    "plt.title(\"Understanding Distribution of loan taken Monthly \\n\", fontdict={'fontsize': 20, 'fontweight' : 5, 'color' : 'Green'})\n",
    "\n",
    "# Labeling Axes\n",
    "plt.xlabel(\"Months\", fontdict={'fontsize': 12, 'fontweight' : 5, 'color' : 'Brown'})\n",
    "plt.ylabel(\"Count\", fontdict={'fontsize': 12, 'fontweight' : 5, 'color' : 'Brown'})\n",
    "\n",
    "plt.show()"
   ]
  },
  {
   "cell_type": "code",
   "execution_count": 66,
   "id": "23a7e423",
   "metadata": {},
   "outputs": [
    {
     "data": {
      "image/png": "[encoded data removed]",
      "text/plain": [
       "<Figure size 720x432 with 1 Axes>"
      ]
     },
     "metadata": {},
     "output_type": "display_data"
    }
   ],
   "source": [
    "plt.figure(figsize = (10,6))\n",
    "\n",
    "# plotting bar chart and setting bar aligning it to center\n",
    "df_loan[\"issue_d_year\"].value_counts().plot.bar(align='center', edgecolor='Orange',color='cyan')\n",
    "\n",
    "# Adding and formatting title\n",
    "plt.title(\"Understanding Distribution of loan taken by Year \\n\", fontdict={'fontsize': 20, 'fontweight' : 5, 'color' : 'Green'})\n",
    "\n",
    "# Labeling Axes\n",
    "plt.xlabel(\"Years\", fontdict={'fontsize': 12, 'fontweight' : 5, 'color' : 'Brown'})\n",
    "plt.ylabel(\"Count\", fontdict={'fontsize': 12, 'fontweight' : 5, 'color' : 'Brown'})\n",
    "\n",
    "plt.show()"
   ]
  },
  {
   "cell_type": "code",
   "execution_count": 70,
   "id": "0c5be2b2",
   "metadata": {},
   "outputs": [
    {
     "data": {
      "image/png": "[encoded data removed]",
      "text/plain": [
       "<Figure size 432x288 with 1 Axes>"
      ]
     },
     "metadata": {},
     "output_type": "display_data"
    }
   ],
   "source": [
    "# plotting bar chart and setting bar aligning it to center\n",
    "df_loan[\"loan_status\"].value_counts().plot.bar(align='center', edgecolor='Orange',color='cyan')\n",
    "\n",
    "# Adding and formatting title\n",
    "plt.title(\"Understanding Distribution of Loan Status\\n\", fontdict={'fontsize': 20, 'fontweight' : 5, 'color' : 'Green'})\n",
    "\n",
    "# Labeling Axes\n",
    "plt.xlabel(\"Value\", fontdict={'fontsize': 12, 'fontweight' : 5, 'color' : 'Brown'})\n",
    "plt.ylabel(\"Count\", fontdict={'fontsize': 12, 'fontweight' : 5, 'color' : 'Brown'})\n",
    "\n",
    "plt.show()"
   ]
  },
  {
   "cell_type": "code",
   "execution_count": 68,
   "id": "7f727594",
   "metadata": {},
   "outputs": [],
   "source": [
    "df_loan=df_loan[df_loan[\"loan_status\"] != \"Current\"] \n",
    "#removing the current values rows because they can pay full ammount so we can't find much Insigths"
   ]
  },
  {
   "cell_type": "code",
   "execution_count": 69,
   "id": "54bcb6e8",
   "metadata": {},
   "outputs": [
    {
     "data": {
      "text/plain": [
       "n    30517\n",
       "Name: pymnt_plan, dtype: int64"
      ]
     },
     "execution_count": 69,
     "metadata": {},
     "output_type": "execute_result"
    }
   ],
   "source": [
    "df_loan[\"pymnt_plan\"].value_counts()"
   ]
  },
  {
   "cell_type": "code",
   "execution_count": 71,
   "id": "599dc5d5",
   "metadata": {},
   "outputs": [
    {
     "name": "stderr",
     "output_type": "stream",
     "text": [
      "C:\\Users\\rakes\\AppData\\Local\\Temp/ipykernel_19848/2422071079.py:1: FutureWarning: In a future version of pandas all arguments of DataFrame.drop except for the argument 'labels' will be keyword-only\n",
      "  df_loan = df_loan.drop(\"pymnt_plan\" ,1)\n"
     ]
    },
    {
     "data": {
      "text/plain": [
       "(30517, 55)"
      ]
     },
     "execution_count": 71,
     "metadata": {},
     "output_type": "execute_result"
    }
   ],
   "source": [
    "df_loan = df_loan.drop(\"pymnt_plan\" ,1)\n",
    "df_loan.shape"
   ]
  },
  {
   "cell_type": "code",
   "execution_count": 72,
   "id": "ad3c7774",
   "metadata": {},
   "outputs": [
    {
     "data": {
      "text/plain": [
       "'https://lendingclub.com/browse/loanDetail.action?loan_id=1077430'"
      ]
     },
     "execution_count": 72,
     "metadata": {},
     "output_type": "execute_result"
    }
   ],
   "source": [
    "df_loan[\"url\"][1]"
   ]
  },
  {
   "cell_type": "code",
   "execution_count": 73,
   "id": "03352894",
   "metadata": {},
   "outputs": [
    {
     "name": "stderr",
     "output_type": "stream",
     "text": [
      "C:\\Users\\rakes\\AppData\\Local\\Temp/ipykernel_19848/1158684657.py:1: FutureWarning: In a future version of pandas all arguments of DataFrame.drop except for the argument 'labels' will be keyword-only\n",
      "  df_loan = df_loan.drop(\"url\",1)\n"
     ]
    }
   ],
   "source": [
    "df_loan = df_loan.drop(\"url\",1)"
   ]
  },
  {
   "cell_type": "code",
   "execution_count": 74,
   "id": "1aed3f33",
   "metadata": {},
   "outputs": [
    {
     "data": {
      "text/plain": [
       "(30517, 54)"
      ]
     },
     "execution_count": 74,
     "metadata": {},
     "output_type": "execute_result"
    }
   ],
   "source": [
    "df_loan.shape"
   ]
  },
  {
   "cell_type": "code",
   "execution_count": 75,
   "id": "bdce2070",
   "metadata": {},
   "outputs": [
    {
     "data": {
      "text/plain": [
       "debt_consolidation    14575\n",
       "credit_card            3954\n",
       "other                  3120\n",
       "home_improvement       2036\n",
       "major_purchase         1765\n",
       "car                    1293\n",
       "small_business         1071\n",
       "wedding                 773\n",
       "medical                 553\n",
       "moving                  465\n",
       "vacation                311\n",
       "house                   273\n",
       "educational             256\n",
       "renewable_energy         72\n",
       "Name: purpose, dtype: int64"
      ]
     },
     "execution_count": 75,
     "metadata": {},
     "output_type": "execute_result"
    }
   ],
   "source": [
    "df_loan[\"purpose\"].value_counts()"
   ]
  },
  {
   "cell_type": "code",
   "execution_count": 76,
   "id": "91b9a0a3",
   "metadata": {},
   "outputs": [],
   "source": [
    "df_loan = df_loan[~(df_loan[\"purpose\"] == \"renewable_energy\")] # removing minimum number of columns"
   ]
  },
  {
   "cell_type": "code",
   "execution_count": 77,
   "id": "511b444a",
   "metadata": {},
   "outputs": [
    {
     "data": {
      "text/plain": [
       "count    15455.000000\n",
       "mean         1.969330\n",
       "std         19.349917\n",
       "min          1.000000\n",
       "25%          1.000000\n",
       "50%          1.000000\n",
       "75%          1.000000\n",
       "max       1675.000000\n",
       "Name: title, dtype: float64"
      ]
     },
     "execution_count": 77,
     "metadata": {},
     "output_type": "execute_result"
    }
   ],
   "source": [
    "df_loan[\"title\"].value_counts().describe()"
   ]
  },
  {
   "cell_type": "code",
   "execution_count": 78,
   "id": "e17a055b",
   "metadata": {},
   "outputs": [
    {
     "name": "stderr",
     "output_type": "stream",
     "text": [
      "C:\\Users\\rakes\\AppData\\Local\\Temp/ipykernel_19848/2800851925.py:1: FutureWarning: In a future version of pandas all arguments of DataFrame.drop except for the argument 'labels' will be keyword-only\n",
      "  df_loan = df_loan.drop(\"title\",1)\n"
     ]
    }
   ],
   "source": [
    "df_loan = df_loan.drop(\"title\",1)"
   ]
  },
  {
   "cell_type": "code",
   "execution_count": 79,
   "id": "52aa920e",
   "metadata": {},
   "outputs": [
    {
     "data": {
      "text/plain": [
       "112xx    413\n",
       "945xx    410\n",
       "606xx    407\n",
       "100xx    397\n",
       "070xx    348\n",
       "        ... \n",
       "736xx      1\n",
       "332xx      1\n",
       "461xx      1\n",
       "093xx      1\n",
       "479xx      1\n",
       "Name: zip_code, Length: 797, dtype: int64"
      ]
     },
     "execution_count": 79,
     "metadata": {},
     "output_type": "execute_result"
    }
   ],
   "source": [
    "df_loan[\"zip_code\"].value_counts()"
   ]
  },
  {
   "cell_type": "code",
   "execution_count": 80,
   "id": "6ed3f009",
   "metadata": {},
   "outputs": [
    {
     "data": {
      "text/plain": [
       "count      49.000000\n",
       "mean      621.326531\n",
       "std       927.139404\n",
       "min         1.000000\n",
       "25%       123.000000\n",
       "50%       351.000000\n",
       "75%       660.000000\n",
       "max      5383.000000\n",
       "Name: addr_state, dtype: float64"
      ]
     },
     "execution_count": 80,
     "metadata": {},
     "output_type": "execute_result"
    }
   ],
   "source": [
    "df_loan[\"addr_state\"].value_counts().describe()"
   ]
  },
  {
   "cell_type": "code",
   "execution_count": 81,
   "id": "bee7ce2a",
   "metadata": {},
   "outputs": [
    {
     "data": {
      "image/png": "[encoded data removed]",
      "text/plain": [
       "<Figure size 1152x432 with 1 Axes>"
      ]
     },
     "metadata": {},
     "output_type": "display_data"
    }
   ],
   "source": [
    "plt.figure(figsize = (16,6))\n",
    "\n",
    "# plotting bar chart and setting bar aligning it to center\n",
    "df_loan[\"addr_state\"].value_counts()[df_loan[\"addr_state\"].value_counts() > 117].plot.bar(align='center', edgecolor='Orange',color='cyan')\n",
    "\n",
    "# Adding and formatting title\n",
    "plt.title(\"Undestarding Distribution of loan taken by States\\n\", fontdict={'fontsize': 20, 'fontweight' : 5, 'color' : 'Green'})\n",
    "\n",
    "# Labeling Axes\n",
    "plt.xlabel(\"States\", fontdict={'fontsize': 12, 'fontweight' : 5, 'color' : 'Brown'})\n",
    "plt.ylabel(\"Count\", fontdict={'fontsize': 12, 'fontweight' : 5, 'color' : 'Brown'})\n",
    "\n",
    "plt.show()"
   ]
  },
  {
   "cell_type": "code",
   "execution_count": 82,
   "id": "43ea62eb",
   "metadata": {},
   "outputs": [
    {
     "data": {
      "text/plain": [
       "count    30445.000000\n",
       "mean        13.625501\n",
       "std          6.659840\n",
       "min          0.000000\n",
       "25%          8.550000\n",
       "50%         13.780000\n",
       "75%         18.910000\n",
       "max         29.990000\n",
       "Name: dti, dtype: float64"
      ]
     },
     "execution_count": 82,
     "metadata": {},
     "output_type": "execute_result"
    }
   ],
   "source": [
    "df_loan[\"dti\"].describe()"
   ]
  },
  {
   "cell_type": "code",
   "execution_count": 83,
   "id": "d5430e34",
   "metadata": {},
   "outputs": [
    {
     "data": {
      "image/png": "[encoded data removed]",
      "text/plain": [
       "<Figure size 432x288 with 1 Axes>"
      ]
     },
     "metadata": {},
     "output_type": "display_data"
    }
   ],
   "source": [
    "# plotting bar chart and setting bar aligning it to center\n",
    "df_loan[\"dti\"].plot.box(color='springgreen')\n",
    "\n",
    "# Adding and formatting title\n",
    "plt.title(\"Understanding the Distribution of DTI Ratio\\n\", fontdict={'fontsize': 20, 'fontweight' : 5, 'color' : 'Green'})\n",
    "\n",
    "\n",
    "plt.show()"
   ]
  },
  {
   "cell_type": "code",
   "execution_count": 84,
   "id": "5b2aaf7b",
   "metadata": {},
   "outputs": [
    {
     "data": {
      "text/plain": [
       "count    30445.000000\n",
       "mean         0.143340\n",
       "std          0.489895\n",
       "min          0.000000\n",
       "25%          0.000000\n",
       "50%          0.000000\n",
       "75%          0.000000\n",
       "max         11.000000\n",
       "Name: delinq_2yrs, dtype: float64"
      ]
     },
     "execution_count": 84,
     "metadata": {},
     "output_type": "execute_result"
    }
   ],
   "source": [
    "df_loan[\"delinq_2yrs\"].describe()"
   ]
  },
  {
   "cell_type": "code",
   "execution_count": 85,
   "id": "aeb4a5a8",
   "metadata": {},
   "outputs": [
    {
     "data": {
      "text/plain": [
       "0     27217\n",
       "1      2478\n",
       "2       507\n",
       "3       164\n",
       "4        45\n",
       "5        17\n",
       "6        10\n",
       "7         4\n",
       "8         2\n",
       "11        1\n",
       "Name: delinq_2yrs, dtype: int64"
      ]
     },
     "execution_count": 85,
     "metadata": {},
     "output_type": "execute_result"
    }
   ],
   "source": [
    "df_loan[\"delinq_2yrs\"].value_counts()"
   ]
  },
  {
   "cell_type": "code",
   "execution_count": 86,
   "id": "1b76e9f0",
   "metadata": {},
   "outputs": [
    {
     "data": {
      "text/plain": [
       "Oct-99    302\n",
       "Nov-98    296\n",
       "Dec-98    284\n",
       "Oct-00    283\n",
       "Nov-00    276\n",
       "         ... \n",
       "Dec-50      1\n",
       "Jan-68      1\n",
       "Aug-73      1\n",
       "Aug-68      1\n",
       "Jan-72      1\n",
       "Name: earliest_cr_line, Length: 497, dtype: int64"
      ]
     },
     "execution_count": 86,
     "metadata": {},
     "output_type": "execute_result"
    }
   ],
   "source": [
    "df_loan[\"earliest_cr_line\"].value_counts()"
   ]
  },
  {
   "cell_type": "code",
   "execution_count": 87,
   "id": "92b80f4c",
   "metadata": {},
   "outputs": [],
   "source": [
    "df_loan[\"earliest_cr_line_year\"]=df_loan[\"earliest_cr_line\"].apply(lambda x : x[-2:])"
   ]
  },
  {
   "cell_type": "code",
   "execution_count": 88,
   "id": "19e890d7",
   "metadata": {},
   "outputs": [],
   "source": [
    "df_loan[\"earliest_cr_line\"] = df_loan[\"earliest_cr_line\"].apply(lambda x : x[:3])"
   ]
  },
  {
   "cell_type": "code",
   "execution_count": 89,
   "id": "987831fa",
   "metadata": {},
   "outputs": [
    {
     "data": {
      "text/plain": [
       "<AxesSubplot:>"
      ]
     },
     "execution_count": 89,
     "metadata": {},
     "output_type": "execute_result"
    },
    {
     "data": {
      "image/png": "[encoded data removed]",
      "text/plain": [
       "<Figure size 432x288 with 1 Axes>"
      ]
     },
     "metadata": {},
     "output_type": "display_data"
    }
   ],
   "source": [
    "df_loan[\"earliest_cr_line\"].value_counts().plot.bar()"
   ]
  },
  {
   "cell_type": "code",
   "execution_count": 90,
   "id": "f5eb3dd6",
   "metadata": {},
   "outputs": [
    {
     "data": {
      "text/plain": [
       "<AxesSubplot:>"
      ]
     },
     "execution_count": 90,
     "metadata": {},
     "output_type": "execute_result"
    },
    {
     "data": {
      "image/png": "[encoded data removed]",
      "text/plain": [
       "<Figure size 432x288 with 1 Axes>"
      ]
     },
     "metadata": {},
     "output_type": "display_data"
    }
   ],
   "source": [
    "df_loan[\"inq_last_6mths\"].value_counts().plot.bar()"
   ]
  },
  {
   "cell_type": "code",
   "execution_count": 91,
   "id": "86f8a3c7",
   "metadata": {},
   "outputs": [
    {
     "data": {
      "text/plain": [
       "count    30445.000000\n",
       "mean         9.071375\n",
       "std          4.278636\n",
       "min          2.000000\n",
       "25%          6.000000\n",
       "50%          8.000000\n",
       "75%         11.000000\n",
       "max         38.000000\n",
       "Name: open_acc, dtype: float64"
      ]
     },
     "execution_count": 91,
     "metadata": {},
     "output_type": "execute_result"
    }
   ],
   "source": [
    "df_loan[\"open_acc\"].describe()"
   ]
  },
  {
   "cell_type": "code",
   "execution_count": 92,
   "id": "7bf2dc00",
   "metadata": {},
   "outputs": [
    {
     "data": {
      "text/plain": [
       "0%        701\n",
       "46.40%     50\n",
       "61%        49\n",
       "32%        49\n",
       "31.20%     48\n",
       "         ... \n",
       "77.63%      1\n",
       "25.74%      1\n",
       "0.83%       1\n",
       "47.36%      1\n",
       "7.28%       1\n",
       "Name: revol_util, Length: 1073, dtype: int64"
      ]
     },
     "execution_count": 92,
     "metadata": {},
     "output_type": "execute_result"
    }
   ],
   "source": [
    "df_loan[\"revol_util\"].value_counts()"
   ]
  },
  {
   "cell_type": "code",
   "execution_count": 93,
   "id": "059d8c38",
   "metadata": {},
   "outputs": [
    {
     "data": {
      "text/plain": [
       "1         9.4\n",
       "3        21.0\n",
       "5        28.3\n",
       "6        85.6\n",
       "7        87.5\n",
       "         ... \n",
       "39551    96.5\n",
       "39562    68.7\n",
       "39623    62.9\n",
       "39666    34.3\n",
       "39680    70.9\n",
       "Name: revol_util, Length: 30445, dtype: float64"
      ]
     },
     "execution_count": 93,
     "metadata": {},
     "output_type": "execute_result"
    }
   ],
   "source": [
    "df_loan[\"revol_util\"].apply(lambda x : x if type(x) == float else float(x[:-1]) )"
   ]
  },
  {
   "cell_type": "code",
   "execution_count": 94,
   "id": "ffe3cc2d",
   "metadata": {},
   "outputs": [
    {
     "data": {
      "text/plain": [
       "14    1192\n",
       "15    1187\n",
       "17    1181\n",
       "13    1160\n",
       "16    1156\n",
       "      ... \n",
       "81       1\n",
       "78       1\n",
       "72       1\n",
       "87       1\n",
       "2        1\n",
       "Name: total_acc, Length: 77, dtype: int64"
      ]
     },
     "execution_count": 94,
     "metadata": {},
     "output_type": "execute_result"
    }
   ],
   "source": [
    "df_loan[\"total_acc\"].value_counts()"
   ]
  },
  {
   "cell_type": "code",
   "execution_count": 95,
   "id": "550002f7",
   "metadata": {},
   "outputs": [
    {
     "data": {
      "text/plain": [
       "f    30445\n",
       "Name: initial_list_status, dtype: int64"
      ]
     },
     "execution_count": 95,
     "metadata": {},
     "output_type": "execute_result"
    }
   ],
   "source": [
    "df_loan[\"initial_list_status\"].value_counts()"
   ]
  },
  {
   "cell_type": "code",
   "execution_count": 96,
   "id": "27e8bcc2",
   "metadata": {},
   "outputs": [
    {
     "name": "stderr",
     "output_type": "stream",
     "text": [
      "C:\\Users\\rakes\\AppData\\Local\\Temp/ipykernel_19848/2828246065.py:1: FutureWarning: In a future version of pandas all arguments of DataFrame.drop except for the argument 'labels' will be keyword-only\n",
      "  df_loan=df_loan.drop(\"initial_list_status\",1)\n"
     ]
    }
   ],
   "source": [
    "df_loan=df_loan.drop(\"initial_list_status\",1)"
   ]
  },
  {
   "cell_type": "code",
   "execution_count": 97,
   "id": "eedba8c2",
   "metadata": {},
   "outputs": [
    {
     "data": {
      "text/plain": [
       "(30445, 53)"
      ]
     },
     "execution_count": 97,
     "metadata": {},
     "output_type": "execute_result"
    }
   ],
   "source": [
    "df_loan.shape #current shape ofter droping the columns"
   ]
  },
  {
   "cell_type": "code",
   "execution_count": 98,
   "id": "c15c368a",
   "metadata": {},
   "outputs": [
    {
     "data": {
      "text/plain": [
       "0.0    30445\n",
       "Name: out_prncp, dtype: int64"
      ]
     },
     "execution_count": 98,
     "metadata": {},
     "output_type": "execute_result"
    }
   ],
   "source": [
    "df_loan[\"out_prncp\"].value_counts()"
   ]
  },
  {
   "cell_type": "code",
   "execution_count": 99,
   "id": "27ce798d",
   "metadata": {},
   "outputs": [
    {
     "name": "stderr",
     "output_type": "stream",
     "text": [
      "C:\\Users\\rakes\\AppData\\Local\\Temp/ipykernel_19848/2320966075.py:1: FutureWarning: In a future version of pandas all arguments of DataFrame.drop except for the argument 'labels' will be keyword-only\n",
      "  df_loan=df_loan.drop(\"out_prncp_inv\",1)\n"
     ]
    }
   ],
   "source": [
    "df_loan=df_loan.drop(\"out_prncp_inv\",1)"
   ]
  },
  {
   "cell_type": "code",
   "execution_count": 100,
   "id": "06e9aed1",
   "metadata": {},
   "outputs": [
    {
     "data": {
      "text/plain": [
       "(30445, 52)"
      ]
     },
     "execution_count": 100,
     "metadata": {},
     "output_type": "execute_result"
    }
   ],
   "source": [
    "df_loan.shape # current shape ofter droping the columns"
   ]
  },
  {
   "cell_type": "code",
   "execution_count": 101,
   "id": "46b4e4d2",
   "metadata": {},
   "outputs": [
    {
     "data": {
      "text/plain": [
       "0.0    30445\n",
       "Name: out_prncp, dtype: int64"
      ]
     },
     "execution_count": 101,
     "metadata": {},
     "output_type": "execute_result"
    }
   ],
   "source": [
    "df_loan[\"out_prncp\"].value_counts()"
   ]
  },
  {
   "cell_type": "code",
   "execution_count": 102,
   "id": "ba03b941",
   "metadata": {},
   "outputs": [
    {
     "name": "stderr",
     "output_type": "stream",
     "text": [
      "C:\\Users\\rakes\\AppData\\Local\\Temp/ipykernel_19848/4187671026.py:1: FutureWarning: In a future version of pandas all arguments of DataFrame.drop except for the argument 'labels' will be keyword-only\n",
      "  df_loan=df_loan.drop(\"total_pymnt_inv\",1)\n"
     ]
    }
   ],
   "source": [
    "df_loan=df_loan.drop(\"total_pymnt_inv\",1)"
   ]
  },
  {
   "cell_type": "code",
   "execution_count": 103,
   "id": "41709153",
   "metadata": {},
   "outputs": [
    {
     "data": {
      "text/plain": [
       "(30445, 51)"
      ]
     },
     "execution_count": 103,
     "metadata": {},
     "output_type": "execute_result"
    }
   ],
   "source": [
    "df_loan.shape # current shape ofter droping the column"
   ]
  },
  {
   "cell_type": "code",
   "execution_count": 104,
   "id": "1394bdeb",
   "metadata": {},
   "outputs": [
    {
     "name": "stderr",
     "output_type": "stream",
     "text": [
      "C:\\Users\\rakes\\AppData\\Local\\Temp/ipykernel_19848/645107226.py:1: FutureWarning: In a future version of pandas all arguments of DataFrame.drop except for the argument 'labels' will be keyword-only\n",
      "  df_loan=df_loan.drop(\"total_rec_prncp\",1)\n"
     ]
    }
   ],
   "source": [
    "df_loan=df_loan.drop(\"total_rec_prncp\",1)"
   ]
  },
  {
   "cell_type": "code",
   "execution_count": 105,
   "id": "930e6ac8",
   "metadata": {},
   "outputs": [
    {
     "data": {
      "text/plain": [
       "(30445, 50)"
      ]
     },
     "execution_count": 105,
     "metadata": {},
     "output_type": "execute_result"
    }
   ],
   "source": [
    "df_loan.shape # current shape ofter droping the columns"
   ]
  },
  {
   "cell_type": "code",
   "execution_count": 106,
   "id": "5c53d612",
   "metadata": {},
   "outputs": [
    {
     "data": {
      "text/plain": [
       "0.00       59\n",
       "1196.57    23\n",
       "1784.23    15\n",
       "717.95     15\n",
       "1148.14    14\n",
       "           ..\n",
       "21.50       1\n",
       "1459.31     1\n",
       "3027.73     1\n",
       "240.40      1\n",
       "579.66      1\n",
       "Name: total_rec_int, Length: 27094, dtype: int64"
      ]
     },
     "execution_count": 106,
     "metadata": {},
     "output_type": "execute_result"
    }
   ],
   "source": [
    "df_loan[\"total_rec_int\"].value_counts()"
   ]
  },
  {
   "cell_type": "code",
   "execution_count": 107,
   "id": "e8ff0c3f",
   "metadata": {},
   "outputs": [
    {
     "data": {
      "text/plain": [
       "0.000000     28930\n",
       "15.000000      201\n",
       "15.000000       48\n",
       "30.000000       42\n",
       "15.000000       38\n",
       "             ...  \n",
       "23.230000        1\n",
       "29.955775        1\n",
       "14.930384        1\n",
       "19.940000        1\n",
       "52.262227        1\n",
       "Name: total_rec_late_fee, Length: 952, dtype: int64"
      ]
     },
     "execution_count": 107,
     "metadata": {},
     "output_type": "execute_result"
    }
   ],
   "source": [
    "df_loan[\"total_rec_late_fee\"].value_counts()"
   ]
  },
  {
   "cell_type": "code",
   "execution_count": 108,
   "id": "bbe3b8aa",
   "metadata": {},
   "outputs": [
    {
     "data": {
      "text/plain": [
       "count     3269.000000\n",
       "mean       718.601502\n",
       "std       1466.019008\n",
       "min          6.300000\n",
       "25%        101.320000\n",
       "50%        299.310000\n",
       "75%        710.020000\n",
       "max      21810.310000\n",
       "Name: recoveries, dtype: float64"
      ]
     },
     "execution_count": 108,
     "metadata": {},
     "output_type": "execute_result"
    }
   ],
   "source": [
    "df_loan[df_loan[\"recoveries\"] > 0][\"recoveries\"].describe()"
   ]
  },
  {
   "cell_type": "code",
   "execution_count": 109,
   "id": "77bb90de",
   "metadata": {},
   "outputs": [
    {
     "data": {
      "text/plain": [
       "0.0000      27521\n",
       "2.0000         10\n",
       "1.2000          9\n",
       "1.6900          8\n",
       "0.8000          8\n",
       "            ...  \n",
       "155.0340        1\n",
       "4.1815          1\n",
       "340.0000        1\n",
       "258.9138        1\n",
       "668.3600        1\n",
       "Name: collection_recovery_fee, Length: 2048, dtype: int64"
      ]
     },
     "execution_count": 109,
     "metadata": {},
     "output_type": "execute_result"
    }
   ],
   "source": [
    "df_loan[\"collection_recovery_fee\"].value_counts()"
   ]
  },
  {
   "cell_type": "code",
   "execution_count": 110,
   "id": "6d94e8a1",
   "metadata": {},
   "outputs": [
    {
     "data": {
      "text/plain": [
       "Mar-13    826\n",
       "Dec-14    756\n",
       "May-13    730\n",
       "Feb-13    698\n",
       "Mar-12    695\n",
       "         ... \n",
       "Aug-08      5\n",
       "Sep-08      5\n",
       "May-08      4\n",
       "Nov-08      4\n",
       "Jun-08      2\n",
       "Name: last_pymnt_d, Length: 97, dtype: int64"
      ]
     },
     "execution_count": 110,
     "metadata": {},
     "output_type": "execute_result"
    }
   ],
   "source": [
    "df_loan[\"last_pymnt_d\"].value_counts()"
   ]
  },
  {
   "cell_type": "code",
   "execution_count": 111,
   "id": "09d1617f",
   "metadata": {},
   "outputs": [],
   "source": [
    "df_loan[\"last_pymnt_d_year\"]=df_loan[\"last_pymnt_d\"].apply(lambda x : x if type(x) == float else x[-2:])"
   ]
  },
  {
   "cell_type": "code",
   "execution_count": 112,
   "id": "1634b9d2",
   "metadata": {},
   "outputs": [],
   "source": [
    "df_loan[\"last_pymnt_d\"]=df_loan[\"last_pymnt_d\"].apply(lambda x : x if type(x) == float else x[:3])"
   ]
  },
  {
   "cell_type": "code",
   "execution_count": 113,
   "id": "44651981",
   "metadata": {},
   "outputs": [
    {
     "data": {
      "text/plain": [
       "<AxesSubplot:>"
      ]
     },
     "execution_count": 113,
     "metadata": {},
     "output_type": "execute_result"
    },
    {
     "data": {
      "image/png": "[encoded data removed]",
      "text/plain": [
       "<Figure size 432x288 with 1 Axes>"
      ]
     },
     "metadata": {},
     "output_type": "display_data"
    }
   ],
   "source": [
    "df_loan[\"last_pymnt_d\"].value_counts().plot.bar()"
   ]
  },
  {
   "cell_type": "code",
   "execution_count": 114,
   "id": "17a1f505",
   "metadata": {},
   "outputs": [
    {
     "data": {
      "text/plain": [
       "count    30445.000000\n",
       "mean      2394.332158\n",
       "std       3743.515735\n",
       "min          0.000000\n",
       "25%        207.570000\n",
       "50%        508.780000\n",
       "75%       3160.730000\n",
       "max      30340.500000\n",
       "Name: last_pymnt_amnt, dtype: float64"
      ]
     },
     "execution_count": 114,
     "metadata": {},
     "output_type": "execute_result"
    }
   ],
   "source": [
    "df_loan[\"last_pymnt_amnt\"].describe()"
   ]
  },
  {
   "cell_type": "code",
   "execution_count": 115,
   "id": "6083c27a",
   "metadata": {},
   "outputs": [
    {
     "name": "stderr",
     "output_type": "stream",
     "text": [
      "C:\\Users\\rakes\\AppData\\Local\\Temp/ipykernel_19848/3860708942.py:1: FutureWarning: In a future version of pandas all arguments of DataFrame.drop except for the argument 'labels' will be keyword-only\n",
      "  df_loan=df_loan.drop(\"collections_12_mths_ex_med\",1)\n"
     ]
    }
   ],
   "source": [
    "df_loan=df_loan.drop(\"collections_12_mths_ex_med\",1)"
   ]
  },
  {
   "cell_type": "code",
   "execution_count": 116,
   "id": "7fa47e8d",
   "metadata": {},
   "outputs": [
    {
     "data": {
      "text/plain": [
       "(30445, 50)"
      ]
     },
     "execution_count": 116,
     "metadata": {},
     "output_type": "execute_result"
    }
   ],
   "source": [
    "df_loan.shape # current shape ofter droping the columns"
   ]
  },
  {
   "cell_type": "code",
   "execution_count": 117,
   "id": "41e7206f",
   "metadata": {},
   "outputs": [
    {
     "name": "stderr",
     "output_type": "stream",
     "text": [
      "C:\\Users\\rakes\\AppData\\Local\\Temp/ipykernel_19848/283775170.py:1: FutureWarning: In a future version of pandas all arguments of DataFrame.drop except for the argument 'labels' will be keyword-only\n",
      "  df_loan=df_loan.drop(\"policy_code\",1)\n"
     ]
    }
   ],
   "source": [
    "df_loan=df_loan.drop(\"policy_code\",1)"
   ]
  },
  {
   "cell_type": "code",
   "execution_count": 118,
   "id": "ad40f57a",
   "metadata": {},
   "outputs": [
    {
     "data": {
      "text/plain": [
       "(30445, 49)"
      ]
     },
     "execution_count": 118,
     "metadata": {},
     "output_type": "execute_result"
    }
   ],
   "source": [
    "df_loan.shape # current shape ofter droping the columns"
   ]
  },
  {
   "cell_type": "code",
   "execution_count": 119,
   "id": "58649afc",
   "metadata": {},
   "outputs": [
    {
     "name": "stderr",
     "output_type": "stream",
     "text": [
      "C:\\Users\\rakes\\AppData\\Local\\Temp/ipykernel_19848/331095300.py:1: FutureWarning: In a future version of pandas all arguments of DataFrame.drop except for the argument 'labels' will be keyword-only\n",
      "  df_loan=df_loan.drop(\"application_type\",1)\n"
     ]
    }
   ],
   "source": [
    "df_loan=df_loan.drop(\"application_type\",1)"
   ]
  },
  {
   "cell_type": "code",
   "execution_count": 120,
   "id": "5ab680d3",
   "metadata": {},
   "outputs": [
    {
     "data": {
      "text/plain": [
       "(30445, 48)"
      ]
     },
     "execution_count": 120,
     "metadata": {},
     "output_type": "execute_result"
    }
   ],
   "source": [
    "df_loan.shape # current shape ofter droping the columns"
   ]
  },
  {
   "cell_type": "code",
   "execution_count": 121,
   "id": "11bd68cd",
   "metadata": {},
   "outputs": [
    {
     "name": "stderr",
     "output_type": "stream",
     "text": [
      "C:\\Users\\rakes\\AppData\\Local\\Temp/ipykernel_19848/2315990688.py:1: FutureWarning: In a future version of pandas all arguments of DataFrame.drop except for the argument 'labels' will be keyword-only\n",
      "  df_loan=df_loan.drop(\"acc_now_delinq\",1)\n"
     ]
    }
   ],
   "source": [
    "df_loan=df_loan.drop(\"acc_now_delinq\",1)"
   ]
  },
  {
   "cell_type": "code",
   "execution_count": 122,
   "id": "32e0c2fb",
   "metadata": {},
   "outputs": [
    {
     "name": "stderr",
     "output_type": "stream",
     "text": [
      "C:\\Users\\rakes\\AppData\\Local\\Temp/ipykernel_19848/427273591.py:1: FutureWarning: In a future version of pandas all arguments of DataFrame.drop except for the argument 'labels' will be keyword-only\n",
      "  df_loan=df_loan.drop('chargeoff_within_12_mths',1)\n"
     ]
    }
   ],
   "source": [
    "df_loan=df_loan.drop('chargeoff_within_12_mths',1)"
   ]
  },
  {
   "cell_type": "code",
   "execution_count": 123,
   "id": "48aa6500",
   "metadata": {},
   "outputs": [
    {
     "name": "stderr",
     "output_type": "stream",
     "text": [
      "C:\\Users\\rakes\\AppData\\Local\\Temp/ipykernel_19848/1329167732.py:1: FutureWarning: In a future version of pandas all arguments of DataFrame.drop except for the argument 'labels' will be keyword-only\n",
      "  df_loan=df_loan.drop('delinq_amnt',1)\n"
     ]
    }
   ],
   "source": [
    "df_loan=df_loan.drop('delinq_amnt',1)"
   ]
  },
  {
   "cell_type": "code",
   "execution_count": 124,
   "id": "f9595733",
   "metadata": {},
   "outputs": [
    {
     "name": "stderr",
     "output_type": "stream",
     "text": [
      "C:\\Users\\rakes\\AppData\\Local\\Temp/ipykernel_19848/1887018394.py:1: FutureWarning: In a future version of pandas all arguments of DataFrame.drop except for the argument 'labels' will be keyword-only\n",
      "  df_loan=df_loan.drop('tax_liens',1)\n"
     ]
    }
   ],
   "source": [
    "df_loan=df_loan.drop('tax_liens',1)"
   ]
  },
  {
   "cell_type": "code",
   "execution_count": 125,
   "id": "956a163f",
   "metadata": {},
   "outputs": [
    {
     "data": {
      "text/plain": [
       "(30445, 44)"
      ]
     },
     "execution_count": 125,
     "metadata": {},
     "output_type": "execute_result"
    }
   ],
   "source": [
    "df_loan.shape # current shape ofter droping the columns"
   ]
  },
  {
   "cell_type": "code",
   "execution_count": 126,
   "id": "c5d8ef31",
   "metadata": {},
   "outputs": [],
   "source": [
    "Customer_behaviour_data = ['delinq_2yrs', \"earliest_cr_line\" ,'earliest_cr_line_year' , \"inq_last_6mths\" , \"open_acc\"  , \"pub_rec\" , \"revol_bal\" , \n",
    "                            \"revol_util\", \"total_acc\",\"out_prncp\",\"total_pymnt\",\"total_rec_int\",\"total_rec_late_fee\",\"recoveries\",\"collection_recovery_fee\",\n",
    "                                \"last_pymnt_d\",'last_pymnt_d_year',\"last_pymnt_amnt\",\"last_credit_pull_d\"] "
   ]
  },
  {
   "cell_type": "code",
   "execution_count": 127,
   "id": "7d5b2a9c",
   "metadata": {},
   "outputs": [
    {
     "name": "stderr",
     "output_type": "stream",
     "text": [
      "C:\\Users\\rakes\\AppData\\Local\\Temp/ipykernel_19848/3488273602.py:1: FutureWarning: In a future version of pandas all arguments of DataFrame.drop except for the argument 'labels' will be keyword-only\n",
      "  df_loan=df_loan.drop(Customer_behaviour_data,1)\n"
     ]
    }
   ],
   "source": [
    "df_loan=df_loan.drop(Customer_behaviour_data,1)"
   ]
  },
  {
   "cell_type": "code",
   "execution_count": 128,
   "id": "92700f55",
   "metadata": {},
   "outputs": [
    {
     "data": {
      "text/plain": [
       "(30445, 25)"
      ]
     },
     "execution_count": 128,
     "metadata": {},
     "output_type": "execute_result"
    }
   ],
   "source": [
    "df_loan.shape"
   ]
  },
  {
   "cell_type": "code",
   "execution_count": 129,
   "id": "465341d8",
   "metadata": {},
   "outputs": [
    {
     "data": {
      "text/plain": [
       "Index(['id', 'member_id', 'loan_amnt', 'funded_amnt', 'funded_amnt_inv',\n",
       "       'term', 'int_rate', 'installment', 'grade', 'sub_grade', 'emp_title',\n",
       "       'emp_length', 'home_ownership', 'annual_inc', 'verification_status',\n",
       "       'issue_d', 'loan_status', 'purpose', 'zip_code', 'addr_state', 'dti',\n",
       "       'pub_rec_bankruptcies', 'loan_approval', 'issue_d_month',\n",
       "       'issue_d_year'],\n",
       "      dtype='object')"
      ]
     },
     "execution_count": 129,
     "metadata": {},
     "output_type": "execute_result"
    }
   ],
   "source": [
    "df_loan.columns"
   ]
  },
  {
   "cell_type": "code",
   "execution_count": 130,
   "id": "a7d8b638",
   "metadata": {},
   "outputs": [
    {
     "data": {
      "text/plain": [
       "Index(['id', 'member_id', 'loan_amnt', 'funded_amnt', 'funded_amnt_inv',\n",
       "       'term', 'int_rate', 'installment', 'grade', 'sub_grade', 'emp_title',\n",
       "       'emp_length', 'home_ownership', 'annual_inc', 'verification_status',\n",
       "       'issue_d', 'loan_status', 'purpose', 'zip_code', 'addr_state', 'dti',\n",
       "       'pub_rec_bankruptcies', 'loan_approval', 'issue_d_month',\n",
       "       'issue_d_year'],\n",
       "      dtype='object')"
      ]
     },
     "execution_count": 130,
     "metadata": {},
     "output_type": "execute_result"
    }
   ],
   "source": [
    "df_loan.columns #left columns which we can do bivarient analysis"
   ]
  },
  {
   "cell_type": "code",
   "execution_count": 131,
   "id": "6c1d52ce",
   "metadata": {},
   "outputs": [
    {
     "data": {
      "image/png": "[encoded data removed]",
      "text/plain": [
       "<Figure size 504x504 with 1 Axes>"
      ]
     },
     "metadata": {},
     "output_type": "display_data"
    }
   ],
   "source": [
    "plt.figure(figsize = (7,7))\n",
    "\n",
    "\n",
    "sns.boxplot(x=\"loan_status\",y=\"loan_amnt\", data=df_loan,palette=\"hls\")\n",
    "plt.xlabel(\"Loan status\", fontsize=12)\n",
    "plt.ylabel(\"Loan Amount(US)\", fontsize=12)\n",
    "plt.title(\"Loan Amount and Loan Status\", fontsize=20)\n",
    "\n",
    "plt.show()"
   ]
  },
  {
   "cell_type": "code",
   "execution_count": 132,
   "id": "af18ab55",
   "metadata": {},
   "outputs": [
    {
     "data": {
      "text/html": [
       "<div>\n",
       "<style scoped>\n",
       "    .dataframe tbody tr th:only-of-type {\n",
       "        vertical-align: middle;\n",
       "    }\n",
       "\n",
       "    .dataframe tbody tr th {\n",
       "        vertical-align: top;\n",
       "    }\n",
       "\n",
       "    .dataframe thead th {\n",
       "        text-align: right;\n",
       "    }\n",
       "</style>\n",
       "<table border=\"1\" class=\"dataframe\">\n",
       "  <thead>\n",
       "    <tr style=\"text-align: right;\">\n",
       "      <th>loan_status</th>\n",
       "      <th>term</th>\n",
       "      <th>Charged Off</th>\n",
       "      <th>Fully Paid</th>\n",
       "    </tr>\n",
       "  </thead>\n",
       "  <tbody>\n",
       "    <tr>\n",
       "      <th>0</th>\n",
       "      <td>36 months</td>\n",
       "      <td>0.106806</td>\n",
       "      <td>0.893194</td>\n",
       "    </tr>\n",
       "    <tr>\n",
       "      <th>1</th>\n",
       "      <td>60 months</td>\n",
       "      <td>0.252747</td>\n",
       "      <td>0.747253</td>\n",
       "    </tr>\n",
       "  </tbody>\n",
       "</table>\n",
       "</div>"
      ],
      "text/plain": [
       "loan_status        term  Charged Off  Fully Paid\n",
       "0             36 months     0.106806    0.893194\n",
       "1             60 months     0.252747    0.747253"
      ]
     },
     "execution_count": 132,
     "metadata": {},
     "output_type": "execute_result"
    }
   ],
   "source": [
    "term_loanstatus = pd.crosstab(index=df_loan['term'], columns=df_loan['loan_status'], normalize=0).reset_index()\n",
    "term_loanstatus"
   ]
  },
  {
   "cell_type": "code",
   "execution_count": 133,
   "id": "d7ac3418",
   "metadata": {},
   "outputs": [
    {
     "data": {
      "image/png": "[encoded data removed]",
      "text/plain": [
       "<Figure size 504x504 with 1 Axes>"
      ]
     },
     "metadata": {},
     "output_type": "display_data"
    }
   ],
   "source": [
    "#create stacked bar chart\n",
    "term_loanstatus.set_index('term').plot(kind='bar', stacked=True, color=['coral','aqua'] ,figsize=(7,7))\n",
    "\n",
    "for idx, row in term_loanstatus.iterrows():\n",
    "    plt.text(idx-.05, row['Charged Off']/2, \"{:.0%}\".format(row['Charged Off']))\n",
    "\n",
    "plt.xticks(rotation=0)\n",
    "\n",
    "plt.xlabel(\"Term\", fontsize=12)\n",
    "plt.ylabel(\"Percentage\", fontsize=12)\n",
    "plt.title(\"Checking Loan status by terms\", fontsize=20)\n",
    "\n",
    "plt.show()"
   ]
  },
  {
   "cell_type": "code",
   "execution_count": 134,
   "id": "ecad6ea3",
   "metadata": {},
   "outputs": [],
   "source": [
    "df_loan_intrest =df_loan.groupby('loan_status').agg({'int_rate': 'median'})"
   ]
  },
  {
   "cell_type": "code",
   "execution_count": 135,
   "id": "bc82e75a",
   "metadata": {},
   "outputs": [
    {
     "data": {
      "image/png": "[encoded data removed]",
      "text/plain": [
       "<Figure size 504x504 with 1 Axes>"
      ]
     },
     "metadata": {},
     "output_type": "display_data"
    }
   ],
   "source": [
    "plt.figure(figsize = (7,7))\n",
    "\n",
    "\n",
    "sns.boxplot(x=\"loan_status\",y=\"int_rate\", data=df_loan,palette=\"hls\")\n",
    "plt.xlabel(\"Loan status\", fontsize=12)\n",
    "plt.ylabel(\"Interest rate\", fontsize=12)\n",
    "plt.title(\"Interest Rate and Loan Status\", fontsize=20)\n",
    "\n",
    "\n",
    "plt.show()"
   ]
  },
  {
   "cell_type": "code",
   "execution_count": 136,
   "id": "b5f469be",
   "metadata": {},
   "outputs": [
    {
     "data": {
      "image/png": "[encoded data removed]",
      "text/plain": [
       "<Figure size 504x504 with 1 Axes>"
      ]
     },
     "metadata": {},
     "output_type": "display_data"
    }
   ],
   "source": [
    "plt.figure(figsize = (7,7))\n",
    "\n",
    "\n",
    "sns.countplot(x=\"home_ownership\" ,data=df_loan, hue=\"loan_status\" , palette=\"hls\")\n",
    "plt.xlabel(\"Home Ownership\", fontsize=12)\n",
    "plt.ylabel(\"Count\", fontsize=12)\n",
    "plt.title(\"Home Ownership and loan status\", fontsize=20)\n",
    "\n",
    "\n",
    "plt.show()"
   ]
  },
  {
   "cell_type": "code",
   "execution_count": 137,
   "id": "3b1fdd56",
   "metadata": {},
   "outputs": [
    {
     "data": {
      "image/png": "[encoded data removed]",
      "text/plain": [
       "<Figure size 504x504 with 1 Axes>"
      ]
     },
     "metadata": {},
     "output_type": "display_data"
    }
   ],
   "source": [
    "plt.figure(figsize = (7,7))\n",
    "\n",
    "\n",
    "sns.boxplot(x=\"loan_status\",y=\"installment\", data=df_loan,palette=\"hls\")\n",
    "plt.xlabel(\"Loan status\", fontsize=12)\n",
    "plt.ylabel(\"Installment amount(US)\", fontsize=12)\n",
    "plt.title(\"Installment and loan status\", fontsize=20)\n",
    "\n",
    "\n",
    "plt.show()"
   ]
  },
  {
   "cell_type": "code",
   "execution_count": 138,
   "id": "fe02d303",
   "metadata": {},
   "outputs": [
    {
     "data": {
      "text/html": [
       "<div>\n",
       "<style scoped>\n",
       "    .dataframe tbody tr th:only-of-type {\n",
       "        vertical-align: middle;\n",
       "    }\n",
       "\n",
       "    .dataframe tbody tr th {\n",
       "        vertical-align: top;\n",
       "    }\n",
       "\n",
       "    .dataframe thead th {\n",
       "        text-align: right;\n",
       "    }\n",
       "</style>\n",
       "<table border=\"1\" class=\"dataframe\">\n",
       "  <thead>\n",
       "    <tr style=\"text-align: right;\">\n",
       "      <th>loan_status</th>\n",
       "      <th>grade</th>\n",
       "      <th>Charged Off</th>\n",
       "      <th>Fully Paid</th>\n",
       "    </tr>\n",
       "  </thead>\n",
       "  <tbody>\n",
       "    <tr>\n",
       "      <th>0</th>\n",
       "      <td>A</td>\n",
       "      <td>0.059585</td>\n",
       "      <td>0.940415</td>\n",
       "    </tr>\n",
       "    <tr>\n",
       "      <th>1</th>\n",
       "      <td>B</td>\n",
       "      <td>0.121609</td>\n",
       "      <td>0.878391</td>\n",
       "    </tr>\n",
       "    <tr>\n",
       "      <th>2</th>\n",
       "      <td>C</td>\n",
       "      <td>0.172109</td>\n",
       "      <td>0.827891</td>\n",
       "    </tr>\n",
       "    <tr>\n",
       "      <th>3</th>\n",
       "      <td>D</td>\n",
       "      <td>0.219618</td>\n",
       "      <td>0.780382</td>\n",
       "    </tr>\n",
       "    <tr>\n",
       "      <th>4</th>\n",
       "      <td>E</td>\n",
       "      <td>0.273166</td>\n",
       "      <td>0.726834</td>\n",
       "    </tr>\n",
       "    <tr>\n",
       "      <th>5</th>\n",
       "      <td>F</td>\n",
       "      <td>0.322169</td>\n",
       "      <td>0.677831</td>\n",
       "    </tr>\n",
       "    <tr>\n",
       "      <th>6</th>\n",
       "      <td>G</td>\n",
       "      <td>0.389535</td>\n",
       "      <td>0.610465</td>\n",
       "    </tr>\n",
       "  </tbody>\n",
       "</table>\n",
       "</div>"
      ],
      "text/plain": [
       "loan_status grade  Charged Off  Fully Paid\n",
       "0               A     0.059585    0.940415\n",
       "1               B     0.121609    0.878391\n",
       "2               C     0.172109    0.827891\n",
       "3               D     0.219618    0.780382\n",
       "4               E     0.273166    0.726834\n",
       "5               F     0.322169    0.677831\n",
       "6               G     0.389535    0.610465"
      ]
     },
     "execution_count": 138,
     "metadata": {},
     "output_type": "execute_result"
    }
   ],
   "source": [
    "grade_loanstatus = pd.crosstab(index=df_loan['grade'], columns=df_loan['loan_status'], normalize=0).reset_index()\n",
    "grade_loanstatus"
   ]
  },
  {
   "cell_type": "code",
   "execution_count": 139,
   "id": "59e6e860",
   "metadata": {},
   "outputs": [
    {
     "data": {
      "image/png": "[encoded data removed]",
      "text/plain": [
       "<Figure size 504x504 with 1 Axes>"
      ]
     },
     "metadata": {},
     "output_type": "display_data"
    }
   ],
   "source": [
    "#create stacked bar chart\n",
    "grade_loanstatus.set_index('grade').plot(kind='bar', stacked=True, color=['coral','aqua'],figsize=(7,7))\n",
    "\n",
    "for idx, row in grade_loanstatus.iterrows():\n",
    "    plt.text(idx-.2, row['Charged Off']/2, \"{:.0%}\".format(row['Charged Off']))\n",
    "    \n",
    "plt.xlabel(\"Grades\", fontsize=12)\n",
    "plt.title(\"Grades and Loan Status\", fontsize=20)\n",
    "plt.show()"
   ]
  },
  {
   "cell_type": "code",
   "execution_count": 140,
   "id": "f75a1386",
   "metadata": {},
   "outputs": [
    {
     "data": {
      "text/html": [
       "<div>\n",
       "<style scoped>\n",
       "    .dataframe tbody tr th:only-of-type {\n",
       "        vertical-align: middle;\n",
       "    }\n",
       "\n",
       "    .dataframe tbody tr th {\n",
       "        vertical-align: top;\n",
       "    }\n",
       "\n",
       "    .dataframe thead th {\n",
       "        text-align: right;\n",
       "    }\n",
       "</style>\n",
       "<table border=\"1\" class=\"dataframe\">\n",
       "  <thead>\n",
       "    <tr style=\"text-align: right;\">\n",
       "      <th>loan_status</th>\n",
       "      <th>sub_grade</th>\n",
       "      <th>Charged Off</th>\n",
       "      <th>Fully Paid</th>\n",
       "    </tr>\n",
       "  </thead>\n",
       "  <tbody>\n",
       "    <tr>\n",
       "      <th>0</th>\n",
       "      <td>A1</td>\n",
       "      <td>0.025471</td>\n",
       "      <td>0.974529</td>\n",
       "    </tr>\n",
       "    <tr>\n",
       "      <th>1</th>\n",
       "      <td>A2</td>\n",
       "      <td>0.050162</td>\n",
       "      <td>0.949838</td>\n",
       "    </tr>\n",
       "    <tr>\n",
       "      <th>2</th>\n",
       "      <td>A3</td>\n",
       "      <td>0.050204</td>\n",
       "      <td>0.949796</td>\n",
       "    </tr>\n",
       "    <tr>\n",
       "      <th>3</th>\n",
       "      <td>A4</td>\n",
       "      <td>0.060670</td>\n",
       "      <td>0.939330</td>\n",
       "    </tr>\n",
       "    <tr>\n",
       "      <th>4</th>\n",
       "      <td>A5</td>\n",
       "      <td>0.083784</td>\n",
       "      <td>0.916216</td>\n",
       "    </tr>\n",
       "  </tbody>\n",
       "</table>\n",
       "</div>"
      ],
      "text/plain": [
       "loan_status sub_grade  Charged Off  Fully Paid\n",
       "0                  A1     0.025471    0.974529\n",
       "1                  A2     0.050162    0.949838\n",
       "2                  A3     0.050204    0.949796\n",
       "3                  A4     0.060670    0.939330\n",
       "4                  A5     0.083784    0.916216"
      ]
     },
     "execution_count": 140,
     "metadata": {},
     "output_type": "execute_result"
    }
   ],
   "source": [
    "subgrade_loanstatus = pd.crosstab(index=df_loan['sub_grade'], columns=df_loan['loan_status'], normalize=0).reset_index()\n",
    "subgrade_loanstatus.head()"
   ]
  },
  {
   "cell_type": "code",
   "execution_count": 141,
   "id": "38c5db69",
   "metadata": {},
   "outputs": [
    {
     "data": {
      "image/png": "[encoded data removed]",
      "text/plain": [
       "<Figure size 1152x576 with 1 Axes>"
      ]
     },
     "metadata": {},
     "output_type": "display_data"
    }
   ],
   "source": [
    "#create stacked bar chart\n",
    "\n",
    "axes = subgrade_loanstatus.set_index('sub_grade').plot(kind='bar', stacked=True, color=['coral','aqua'])\n",
    "\n",
    "# extract the figure object\n",
    "fig = axes.get_figure()\n",
    "\n",
    "for i, row in subgrade_loanstatus.iterrows():\n",
    "    plt.text(i-.2, row['Charged Off']/2, \"{:.0%}\".format(row['Charged Off']))\n",
    "    \n",
    "fig.set_size_inches((16, 8))\n",
    "plt.xlabel(\"Sub-Grades\", fontsize=12)\n",
    "plt.title(\"Sub-Grades and Loan Status\", fontsize=20)\n",
    "plt.show()"
   ]
  },
  {
   "cell_type": "code",
   "execution_count": 142,
   "id": "e5ef8063",
   "metadata": {},
   "outputs": [],
   "source": [
    "def bucket(x): # creating buckets for getting more insights\n",
    "    if(x==0):\n",
    "        return \"Fresher\"\n",
    "    elif(x>=1 and x<3):\n",
    "        return \"1-3\"\n",
    "    elif(x>=3 and x<5):\n",
    "        return \"3-5\"\n",
    "    elif(x>=5 and x<7):\n",
    "        return \"5-7\"\n",
    "    elif(x>=7 and x<10):\n",
    "        return \"7-10\"\n",
    "    elif(x>=10):\n",
    "        return \"10+\"\n",
    "        "
   ]
  },
  {
   "cell_type": "code",
   "execution_count": 143,
   "id": "494a31fc",
   "metadata": {},
   "outputs": [],
   "source": [
    "df_loan[\"emp_length_buckets\"]=df_loan.emp_length.apply(bucket)"
   ]
  },
  {
   "cell_type": "code",
   "execution_count": 144,
   "id": "0c5d59f9",
   "metadata": {},
   "outputs": [
    {
     "data": {
      "image/png": "[encoded data removed]",
      "text/plain": [
       "<Figure size 1152x432 with 1 Axes>"
      ]
     },
     "metadata": {},
     "output_type": "display_data"
    }
   ],
   "source": [
    "crosstab_emplen_status = pd.crosstab(index=df_loan['emp_length_buckets'], columns=df_loan['loan_status'], normalize=0).reset_index()\n",
    "#create stacked bar chart\n",
    "\n",
    "axes = crosstab_emplen_status.set_index('emp_length_buckets').plot(kind='bar', stacked=True, color=['coral','aqua'])\n",
    "\n",
    "# extract the figure object\n",
    "fig = axes.get_figure()\n",
    "\n",
    "for idx, row in crosstab_emplen_status.iterrows():\n",
    "    plt.text(idx-.2, row['Charged Off']/2, \"{:.0%}\".format(row['Charged Off']))\n",
    "    \n",
    "fig.set_size_inches((16, 6))\n",
    "plt.xlabel(\"Employment Length(in years)\", fontsize=12)\n",
    "plt.title(\"Employment Length and Loan Status\", fontsize=20)\n",
    "plt.show()"
   ]
  },
  {
   "cell_type": "code",
   "execution_count": 145,
   "id": "b7903711",
   "metadata": {},
   "outputs": [
    {
     "data": {
      "image/png": "[encoded data removed]",
      "text/plain": [
       "<Figure size 504x504 with 1 Axes>"
      ]
     },
     "metadata": {},
     "output_type": "display_data"
    }
   ],
   "source": [
    "plt.figure(figsize = (7,7))\n",
    "\n",
    "\n",
    "sns.boxplot(x=\"loan_status\",y=\"annual_inc\", data=df_loan,palette=\"hls\")\n",
    "plt.xlabel(\"Loan status\", fontsize=12)\n",
    "plt.ylabel(\"Annual Amount(US)\", fontsize=12)\n",
    "plt.title(\"Annual Income and loan status\", fontsize=20)\n",
    "\n",
    "\n",
    "plt.show()"
   ]
  },
  {
   "cell_type": "code",
   "execution_count": 146,
   "id": "1ff80dea",
   "metadata": {},
   "outputs": [
    {
     "data": {
      "text/html": [
       "<div>\n",
       "<style scoped>\n",
       "    .dataframe tbody tr th:only-of-type {\n",
       "        vertical-align: middle;\n",
       "    }\n",
       "\n",
       "    .dataframe tbody tr th {\n",
       "        vertical-align: top;\n",
       "    }\n",
       "\n",
       "    .dataframe thead th {\n",
       "        text-align: right;\n",
       "    }\n",
       "</style>\n",
       "<table border=\"1\" class=\"dataframe\">\n",
       "  <thead>\n",
       "    <tr style=\"text-align: right;\">\n",
       "      <th>loan_status</th>\n",
       "      <th>purpose</th>\n",
       "      <th>Charged Off</th>\n",
       "      <th>Fully Paid</th>\n",
       "    </tr>\n",
       "  </thead>\n",
       "  <tbody>\n",
       "    <tr>\n",
       "      <th>0</th>\n",
       "      <td>car</td>\n",
       "      <td>0.109049</td>\n",
       "      <td>0.890951</td>\n",
       "    </tr>\n",
       "    <tr>\n",
       "      <th>1</th>\n",
       "      <td>credit_card</td>\n",
       "      <td>0.105716</td>\n",
       "      <td>0.894284</td>\n",
       "    </tr>\n",
       "    <tr>\n",
       "      <th>2</th>\n",
       "      <td>debt_consolidation</td>\n",
       "      <td>0.151767</td>\n",
       "      <td>0.848233</td>\n",
       "    </tr>\n",
       "    <tr>\n",
       "      <th>3</th>\n",
       "      <td>educational</td>\n",
       "      <td>0.167969</td>\n",
       "      <td>0.832031</td>\n",
       "    </tr>\n",
       "    <tr>\n",
       "      <th>4</th>\n",
       "      <td>home_improvement</td>\n",
       "      <td>0.119843</td>\n",
       "      <td>0.880157</td>\n",
       "    </tr>\n",
       "    <tr>\n",
       "      <th>5</th>\n",
       "      <td>house</td>\n",
       "      <td>0.153846</td>\n",
       "      <td>0.846154</td>\n",
       "    </tr>\n",
       "    <tr>\n",
       "      <th>6</th>\n",
       "      <td>major_purchase</td>\n",
       "      <td>0.101983</td>\n",
       "      <td>0.898017</td>\n",
       "    </tr>\n",
       "    <tr>\n",
       "      <th>7</th>\n",
       "      <td>medical</td>\n",
       "      <td>0.157324</td>\n",
       "      <td>0.842676</td>\n",
       "    </tr>\n",
       "    <tr>\n",
       "      <th>8</th>\n",
       "      <td>moving</td>\n",
       "      <td>0.161290</td>\n",
       "      <td>0.838710</td>\n",
       "    </tr>\n",
       "    <tr>\n",
       "      <th>9</th>\n",
       "      <td>other</td>\n",
       "      <td>0.158333</td>\n",
       "      <td>0.841667</td>\n",
       "    </tr>\n",
       "    <tr>\n",
       "      <th>10</th>\n",
       "      <td>small_business</td>\n",
       "      <td>0.274510</td>\n",
       "      <td>0.725490</td>\n",
       "    </tr>\n",
       "    <tr>\n",
       "      <th>11</th>\n",
       "      <td>vacation</td>\n",
       "      <td>0.151125</td>\n",
       "      <td>0.848875</td>\n",
       "    </tr>\n",
       "    <tr>\n",
       "      <th>12</th>\n",
       "      <td>wedding</td>\n",
       "      <td>0.099612</td>\n",
       "      <td>0.900388</td>\n",
       "    </tr>\n",
       "  </tbody>\n",
       "</table>\n",
       "</div>"
      ],
      "text/plain": [
       "loan_status             purpose  Charged Off  Fully Paid\n",
       "0                           car     0.109049    0.890951\n",
       "1                   credit_card     0.105716    0.894284\n",
       "2            debt_consolidation     0.151767    0.848233\n",
       "3                   educational     0.167969    0.832031\n",
       "4              home_improvement     0.119843    0.880157\n",
       "5                         house     0.153846    0.846154\n",
       "6                major_purchase     0.101983    0.898017\n",
       "7                       medical     0.157324    0.842676\n",
       "8                        moving     0.161290    0.838710\n",
       "9                         other     0.158333    0.841667\n",
       "10               small_business     0.274510    0.725490\n",
       "11                     vacation     0.151125    0.848875\n",
       "12                      wedding     0.099612    0.900388"
      ]
     },
     "execution_count": 146,
     "metadata": {},
     "output_type": "execute_result"
    }
   ],
   "source": [
    "crosstab_purpose_status = pd.crosstab(index=df_loan['purpose'], columns=df_loan['loan_status'], normalize=0).reset_index()\n",
    "crosstab_purpose_status"
   ]
  },
  {
   "cell_type": "code",
   "execution_count": 147,
   "id": "f410e164",
   "metadata": {},
   "outputs": [
    {
     "data": {
      "image/png": "[encoded data removed]",
      "text/plain": [
       "<Figure size 1152x432 with 1 Axes>"
      ]
     },
     "metadata": {},
     "output_type": "display_data"
    }
   ],
   "source": [
    "#create stacked bar chart\n",
    "\n",
    "axes = crosstab_purpose_status.set_index('purpose').plot(kind='bar', stacked=True, color=['coral','aqua'])\n",
    "\n",
    "# extract the figure object\n",
    "fig = axes.get_figure()\n",
    "\n",
    "for idx, row in crosstab_purpose_status.iterrows():\n",
    "    plt.text(idx-.2, row['Charged Off']/2, \"{:.0%}\".format(row['Charged Off']))\n",
    "    \n",
    "fig.set_size_inches((16, 6))\n",
    "plt.xlabel(\"Purpose\", fontsize=12)\n",
    "plt.title(\"Purpose and Loan Status\", fontsize=20)\n",
    "plt.show()"
   ]
  },
  {
   "cell_type": "code",
   "execution_count": 148,
   "id": "422e0d54",
   "metadata": {},
   "outputs": [
    {
     "data": {
      "image/png": "[encoded data removed]",
      "text/plain": [
       "<Figure size 504x504 with 1 Axes>"
      ]
     },
     "metadata": {},
     "output_type": "display_data"
    }
   ],
   "source": [
    "plt.figure(figsize = (7,7))\n",
    "\n",
    "\n",
    "sns.boxplot(x=\"loan_status\",y=\"dti\", data=df_loan,palette=\"hls\")\n",
    "plt.xlabel(\"Loan status\", fontsize=12)\n",
    "plt.ylabel(\"DTI Ratio\", fontsize=12)\n",
    "plt.title(\"DTI and loan status\", fontsize=20)\n",
    "\n",
    "\n",
    "plt.show()"
   ]
  },
  {
   "cell_type": "code",
   "execution_count": 149,
   "id": "abd35a30",
   "metadata": {},
   "outputs": [
    {
     "data": {
      "text/html": [
       "<div>\n",
       "<style scoped>\n",
       "    .dataframe tbody tr th:only-of-type {\n",
       "        vertical-align: middle;\n",
       "    }\n",
       "\n",
       "    .dataframe tbody tr th {\n",
       "        vertical-align: top;\n",
       "    }\n",
       "\n",
       "    .dataframe thead th {\n",
       "        text-align: right;\n",
       "    }\n",
       "</style>\n",
       "<table border=\"1\" class=\"dataframe\">\n",
       "  <thead>\n",
       "    <tr style=\"text-align: right;\">\n",
       "      <th>loan_status</th>\n",
       "      <th>pub_rec_bankruptcies</th>\n",
       "      <th>Charged Off</th>\n",
       "      <th>Fully Paid</th>\n",
       "    </tr>\n",
       "  </thead>\n",
       "  <tbody>\n",
       "    <tr>\n",
       "      <th>0</th>\n",
       "      <td>0.0</td>\n",
       "      <td>0.139829</td>\n",
       "      <td>0.860171</td>\n",
       "    </tr>\n",
       "    <tr>\n",
       "      <th>1</th>\n",
       "      <td>1.0</td>\n",
       "      <td>0.211553</td>\n",
       "      <td>0.788447</td>\n",
       "    </tr>\n",
       "    <tr>\n",
       "      <th>2</th>\n",
       "      <td>2.0</td>\n",
       "      <td>0.400000</td>\n",
       "      <td>0.600000</td>\n",
       "    </tr>\n",
       "  </tbody>\n",
       "</table>\n",
       "</div>"
      ],
      "text/plain": [
       "loan_status  pub_rec_bankruptcies  Charged Off  Fully Paid\n",
       "0                             0.0     0.139829    0.860171\n",
       "1                             1.0     0.211553    0.788447\n",
       "2                             2.0     0.400000    0.600000"
      ]
     },
     "execution_count": 149,
     "metadata": {},
     "output_type": "execute_result"
    }
   ],
   "source": [
    "bankrupt_loanstatus = pd.crosstab(index=df_loan['pub_rec_bankruptcies'], columns=df_loan['loan_status'], normalize=0).reset_index()\n",
    "bankrupt_loanstatus"
   ]
  },
  {
   "cell_type": "code",
   "execution_count": 150,
   "id": "12d8bf47",
   "metadata": {},
   "outputs": [
    {
     "data": {
      "image/png": "[encoded data removed]",
      "text/plain": [
       "<Figure size 576x432 with 1 Axes>"
      ]
     },
     "metadata": {},
     "output_type": "display_data"
    }
   ],
   "source": [
    "#creating stacked bar chart\n",
    "\n",
    "axes = bankrupt_loanstatus.set_index('pub_rec_bankruptcies').plot(kind='bar', stacked=True, color=['coral','aqua'])\n",
    "\n",
    "# figure object extraction\n",
    "fig = axes.get_figure()\n",
    "\n",
    "for i, row in bankrupt_loanstatus.iterrows():\n",
    "    plt.text(i, row['Charged Off']/2, \"{:.1%}\".format(row['Charged Off']), rotation=90)\n",
    "\n",
    "plt.xlabel('No: of Public Bankruptcies')\n",
    "plt.ylabel('Proportion of Loans')\n",
    "\n",
    "fig.set_size_inches((8, 6))\n",
    "plt.title(\"public bankruptcies with loan status\", fontsize=20)\n",
    "plt.show()"
   ]
  },
  {
   "cell_type": "code",
   "execution_count": null,
   "id": "b1098356",
   "metadata": {},
   "outputs": [],
   "source": []
  }
 ],
 "metadata": {
  "kernelspec": {
   "display_name": "Python 3 (ipykernel)",
   "language": "python",
   "name": "python3"
  },
  "language_info": {
   "codemirror_mode": {
    "name": "ipython",
    "version": 3
   },
   "file_extension": ".py",
   "mimetype": "text/x-python",
   "name": "python",
   "nbconvert_exporter": "python",
   "pygments_lexer": "ipython3",
   "version": "3.9.7"
  }
 },
 "nbformat": 4,
 "nbformat_minor": 5
}
